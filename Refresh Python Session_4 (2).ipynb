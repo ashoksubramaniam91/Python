{
 "cells": [
  {
   "cell_type": "markdown",
   "metadata": {},
   "source": [
    "Datastructures;1,2,3 level drill down in dict,Array slicing,Arithmetic operations,Dot product,Comparison operator,Logical operator,Array collapsing"
   ]
  },
  {
   "cell_type": "code",
   "execution_count": 68,
   "metadata": {},
   "outputs": [
    {
     "name": "stdout",
     "output_type": "stream",
     "text": [
      "int32\n"
     ]
    }
   ],
   "source": [
    "#array-scalar type\n",
    "dt=np.dtype(np.int32)\n",
    "print(dt)"
   ]
  },
  {
   "cell_type": "code",
   "execution_count": 69,
   "metadata": {},
   "outputs": [
    {
     "data": {
      "text/plain": [
       "dtype('int32')"
      ]
     },
     "execution_count": 69,
     "metadata": {},
     "output_type": "execute_result"
    }
   ],
   "source": [
    "#int8,int16,int32,int64 can b replaced with equivalent string 'i1','i2','i4','i8'...\n",
    "#float 'f4','f8'...\n",
    "#string 'S10','S20','S64'...\n",
    "dt=np.dtype('i4')\n",
    "dt"
   ]
  },
  {
   "cell_type": "code",
   "execution_count": 71,
   "metadata": {},
   "outputs": [
    {
     "name": "stdout",
     "output_type": "stream",
     "text": [
      "int16\n"
     ]
    }
   ],
   "source": [
    "i16=np.dtype(np.int16)#np.dtype('i2')\n",
    "print(i16)"
   ]
  },
  {
   "cell_type": "code",
   "execution_count": 73,
   "metadata": {},
   "outputs": [
    {
     "name": "stdout",
     "output_type": "stream",
     "text": [
      "<class 'list'>\n",
      "[[ 3  8  9]\n",
      " [ 1 -7  0]\n",
      " [ 4 12  4]]\n",
      "int8\n"
     ]
    }
   ],
   "source": [
    "#create a list\n",
    "lst=[[3.4,8.7,9.9],[1.1,-7.8,-0.7],[4.1,12.3,4.8]]\n",
    "print(type(lst))\n",
    "i8=np.dtype(np.int8)\n",
    "a=np.array(lst,dtype=i8)\n",
    "print(a)\n",
    "print(a.dtype)"
   ]
  },
  {
   "cell_type": "code",
   "execution_count": 90,
   "metadata": {},
   "outputs": [
    {
     "name": "stdout",
     "output_type": "stream",
     "text": [
      "[('density', '<i4')]\n",
      "[(393,) (337,) (256,)]\n",
      "[393 337 256]\n",
      "(337,)\n",
      "337\n"
     ]
    }
   ],
   "source": [
    "#assign colname(structured datatype)\n",
    "dt=np.dtype([('density','i4')])\n",
    "print(dt)\n",
    "#assign values to the col named density\n",
    "x=np.array([(393,),(337,),(256,)],dtype=dt)#similar to np.array([393,337,256],dtype=dt)\n",
    "print(x)\n",
    "print(x['density'])\n",
    "print(x['density'][1])#similar to print(x[1])"
   ]
  },
  {
   "cell_type": "code",
   "execution_count": null,
   "metadata": {},
   "outputs": [],
   "source": []
  },
  {
   "cell_type": "code",
   "execution_count": 96,
   "metadata": {},
   "outputs": [
    {
     "data": {
      "text/plain": [
       "6"
      ]
     },
     "execution_count": 96,
     "metadata": {},
     "output_type": "execute_result"
    }
   ],
   "source": [
    "#1 level drill down\n",
    "e={'hydrogen':1,'helium':2,'carbon':6}\n",
    "e['carbon']"
   ]
  },
  {
   "cell_type": "code",
   "execution_count": 100,
   "metadata": {},
   "outputs": [
    {
     "name": "stdout",
     "output_type": "stream",
     "text": [
      "{'hydrogen': {'number': 1, 'weight': 1.007, 'symbol': 'H'}, 'helium': {'number': 2, 'weight': 4.002, 'symbol': 'He'}}\n"
     ]
    },
    {
     "data": {
      "text/plain": [
       "'H'"
      ]
     },
     "execution_count": 100,
     "metadata": {},
     "output_type": "execute_result"
    }
   ],
   "source": [
    "#2 level drill down\n",
    "e1={'hydrogen':{'number':1,'weight':1.007,'symbol':'H'},\n",
    "   'helium':{'number':2,'weight':4.002,'symbol':'He'}}\n",
    "print(e1)\n",
    "#retrieve H"
   ]
  },
  {
   "cell_type": "code",
   "execution_count": 103,
   "metadata": {},
   "outputs": [
    {
     "name": "stdout",
     "output_type": "stream",
     "text": [
      "{'hydrogen': {'number': 1, 'weight': 1.007, 'symbol': 'H'}, 'helium': {'number': 2, 'weight': 4.002, 'symbol': {'hydrogen': 'H', 'helium': 'He', 'carbon': 'c'}}}\n"
     ]
    },
    {
     "data": {
      "text/plain": [
       "'c'"
      ]
     },
     "execution_count": 103,
     "metadata": {},
     "output_type": "execute_result"
    }
   ],
   "source": [
    "#3 level drill down\n",
    "e2={'hydrogen':{'number':1,'weight':1.007,'symbol':'H'},\n",
    "   'helium':{'number':2,'weight':4.002,'symbol':{'hydrogen':'H','helium':'He','carbon':'c'}}}\n",
    "print(e2)\n",
    "#retrieve C"
   ]
  },
  {
   "cell_type": "code",
   "execution_count": 104,
   "metadata": {},
   "outputs": [
    {
     "data": {
      "text/plain": [
       "\"country-string;density,i4;area,i4,population,i4\\n('Netherlands',393,82374,7698323),\\n('Belgium',2332,43543,43532)\\n('United Kingdom',324,45645,23453245)\\n('Germany',34,3456,2345)\\n('Italy',393,82374,7698323),\\n('Switzerland',2332,43543,43532)\\n('France',324,45645,23453245)\\n('Austria',34,3456,2345)\\n('Greece',393,82374,7698323),\\n('Ireland',2332,43543,43532)\\n('India',324,45645,23453245)\\n('Finland',34,3456,2345)\\n('Norway',393,82374,7698323)\\n#select 0th till 3rd ind row\\nselect 4th row till  last\\nselect population col\\nextract area col\\nextract country col\\nextract 0th till 4th row of country col \\n0th till 11th row with 3 intervals from country col and 2nd till 8th row with 2 intervals from area col \""
      ]
     },
     "execution_count": 104,
     "metadata": {},
     "output_type": "execute_result"
    }
   ],
   "source": [
    "#USECASE\n",
    "'''country-string;density,i4;area,i4,population,i4\n",
    "('Netherlands',393,82374,7698323),\n",
    "('Belgium',2332,43543,43532)\n",
    "('United Kingdom',324,45645,23453245)\n",
    "('Germany',34,3456,2345)\n",
    "('Italy',393,82374,7698323),\n",
    "('Switzerland',2332,43543,43532)\n",
    "('France',324,45645,23453245)\n",
    "('Austria',34,3456,2345)\n",
    "('Greece',393,82374,7698323),\n",
    "('Ireland',2332,43543,43532)\n",
    "('India',324,45645,23453245)\n",
    "('Finland',34,3456,2345)\n",
    "('Norway',393,82374,7698323)\n",
    "#select 0th till 3rd ind row\n",
    "select 4th row till  last\n",
    "select population col\n",
    "extract area col\n",
    "extract country col\n",
    "extract 0th till 4th row of country col \n",
    "0th till 11th row with 3 intervals from country col and 2nd till 8th row with 2 intervals from area col '''\n"
   ]
  },
  {
   "cell_type": "code",
   "execution_count": 6,
   "metadata": {},
   "outputs": [
    {
     "name": "stdout",
     "output_type": "stream",
     "text": [
      "[('Netherlands',  393, 82374,  7698323) ('Belgium', 2332, 43543,    43532)\n",
      " ('United Kingdo',  324, 45645, 23453245)\n",
      " ('Germany',   34,  3456,     2345) ('Italy',  393, 82374,  7698323)\n",
      " ('Switzerland', 2332, 43543,    43532) ('France',  324, 45645, 23453245)\n",
      " ('Austria',   34,  3456,     2345) ('Greece',  393, 82374,  7698323)\n",
      " ('Ireland', 2332, 43543,    43532) ('India',  324, 45645, 23453245)\n",
      " ('Finland',   34,  3456,     2345) ('Norway',  393, 82374,  7698323)]\n",
      "[('Italy',  393, 82374,  7698323) ('Switzerland', 2332, 43543,    43532)\n",
      " ('France',  324, 45645, 23453245) ('Austria',   34,  3456,     2345)\n",
      " ('Greece',  393, 82374,  7698323) ('Ireland', 2332, 43543,    43532)\n",
      " ('India',  324, 45645, 23453245) ('Finland',   34,  3456,     2345)\n",
      " ('Norway',  393, 82374,  7698323)]\n"
     ]
    }
   ],
   "source": [
    "dt=np.dtype([('country','U13'),('density','i4'),('area','i4'),('population','i4')])\n",
    "population=np.array([('Netherlands',393,82374,7698323),\n",
    "('Belgium',2332,43543,43532),\n",
    "('United Kingdom',324,45645,23453245),\n",
    "('Germany',34,3456,2345),\n",
    "('Italy',393,82374,7698323),\n",
    "('Switzerland',2332,43543,43532),\n",
    "('France',324,45645,23453245),\n",
    "('Austria',34,3456,2345),\n",
    "('Greece',393,82374,7698323),\n",
    "('Ireland',2332,43543,43532),\n",
    "('India',324,45645,23453245),\n",
    "('Finland',34,3456,2345),\n",
    "('Norway',393,82374,7698323)],dtype=dt)\n",
    "\n",
    "print(population)\n",
    "print(lis4[4:])"
   ]
  },
  {
   "cell_type": "code",
   "execution_count": 9,
   "metadata": {},
   "outputs": [],
   "source": [
    "#save the structured arry to a file\n",
    "head=\"country density area population\"\n",
    "np.savetxt(\"D:/Trainings/Online Python/pop.csv\",population,fmt=\"%s;%d;%d;%d\",delimiter=\";\",header=head)"
   ]
  },
  {
   "cell_type": "code",
   "execution_count": 10,
   "metadata": {},
   "outputs": [
    {
     "data": {
      "text/plain": [
       "array([['Netherlands', '393', '82374', '7698323'],\n",
       "       ['Belgium', '2332', '43543', '43532'],\n",
       "       ['United Kingdo', '324', '45645', '23453245'],\n",
       "       ['Germany', '34', '3456', '2345'],\n",
       "       ['Italy', '393', '82374', '7698323'],\n",
       "       ['Switzerland', '2332', '43543', '43532'],\n",
       "       ['France', '324', '45645', '23453245'],\n",
       "       ['Austria', '34', '3456', '2345'],\n",
       "       ['Greece', '393', '82374', '7698323'],\n",
       "       ['Ireland', '2332', '43543', '43532'],\n",
       "       ['India', '324', '45645', '23453245'],\n",
       "       ['Finland', '34', '3456', '2345'],\n",
       "       ['Norway', '393', '82374', '7698323']], dtype='<U13')"
      ]
     },
     "execution_count": 10,
     "metadata": {},
     "output_type": "execute_result"
    }
   ],
   "source": [
    "np.loadtxt(\"D:/Trainings/Online Python/pop.csv\",delimiter=\";\",dtype=str)"
   ]
  },
  {
   "cell_type": "code",
   "execution_count": 11,
   "metadata": {},
   "outputs": [
    {
     "name": "stdout",
     "output_type": "stream",
     "text": [
      "[((11, 12, 13), 23.8 ) ((12,  1, 35), 32.1 ) ((12, 19, 60), 21.32)]\n"
     ]
    }
   ],
   "source": [
    "#Nested datatypes\n",
    "dt=np.dtype([('time',[('hr',int),('min',int),('sec',int)]),('temp',float)])\n",
    "time_temp=np.array([((11,12,13),23.8),((12,1,35),32.1),((12,19,60),21.32)],dtype=dt)\n",
    "print(time_temp)"
   ]
  },
  {
   "cell_type": "code",
   "execution_count": 18,
   "metadata": {},
   "outputs": [
    {
     "name": "stdout",
     "output_type": "stream",
     "text": [
      "[(11, 12, 13) (12,  1, 35) (12, 19, 60)]\n",
      "[((11, 12, 13), 23.8 ) ((12,  1, 35), 32.1 ) ((12, 19, 60), 21.32)]\n",
      "[((11, 12, 13), 23.8) ((12,  1, 35), 32.1)]\n",
      "[((12,  1, 35), 32.1 ) ((12, 19, 60), 21.32)]\n",
      "[((11, 12, 13), 23.8) ((12,  1, 35), 32.1)]\n",
      "[11 12 12]\n",
      "[23.8  32.1  21.32]\n"
     ]
    }
   ],
   "source": [
    "print(time_temp['time'])#time col alone\n",
    "print(time_temp[:])#entire array\n",
    "print(time_temp[:2])#first 2 rows\n",
    "print(time_temp[1:])#from 1st ind to last\n",
    "print(time_temp[:-1])\n",
    "print(time_temp['time']['hr'])\n",
    "print(time_temp['temp'])"
   ]
  },
  {
   "cell_type": "code",
   "execution_count": 21,
   "metadata": {},
   "outputs": [
    {
     "name": "stdout",
     "output_type": "stream",
     "text": [
      "[[ 0  1  2  3]\n",
      " [ 4  5  6  7]\n",
      " [ 8  9 10 11]\n",
      " [12 13 14 15]]\n",
      "top left [[0 1]\n",
      " [4 5]]\n",
      "top right [[2 3]\n",
      " [6 7]]\n",
      "bottom left [[ 8  9]\n",
      " [12 13]]\n",
      "bootom right [[10 11]\n",
      " [14 15]]\n"
     ]
    }
   ],
   "source": [
    "#array slicing - slice 4x4 matrix to 4 equal parts\n",
    "xs=np.arange(16)\n",
    "xs=xs.reshape(4,4)\n",
    "print(xs)\n",
    "print(\"top left\",xs[:2,:2])\n",
    "print(\"top right\",xs[:2,2:])\n",
    "print(\"bottom left\",xs[2:,:2])\n",
    "print(\"bootom right\",xs[2:,2:])"
   ]
  },
  {
   "cell_type": "code",
   "execution_count": 34,
   "metadata": {},
   "outputs": [
    {
     "name": "stdout",
     "output_type": "stream",
     "text": [
      "[[ 0  1  2  3]\n",
      " [ 4  5  6  7]\n",
      " [ 8  9 10 11]\n",
      " [12 13 14 15]]\n",
      "\n",
      " Upper left : \n",
      "[[0 1]\n",
      " [4 5]]\n",
      "\n",
      " lower left : \n",
      "[[ 8  9]\n",
      " [12 13]]\n",
      "\n",
      " Upper right : \n",
      "[[2 3]\n",
      " [6 7]]\n",
      "\n",
      " lower right : \n",
      "[[10 11]\n",
      " [14 15]]\n"
     ]
    }
   ],
   "source": [
    "xs=np.arange(16)\n",
    "xs=xs.reshape(4,4)\n",
    "print(xs)\n",
    "u_half=np.hsplit(np.vsplit(xs,2)[0],2)\n",
    "#print(u_half)\n",
    "l_half=np.hsplit(np.vsplit(xs,2)[1],2)\n",
    "#print(l_half)\n",
    "print(\"\\n Upper left : \")\n",
    "u_left=u_half[0]\n",
    "print(u_left)\n",
    "\n",
    "print(\"\\n lower left : \")\n",
    "l_left=l_half[0]\n",
    "print(l_left)\n",
    "\n",
    "print(\"\\n Upper right : \")\n",
    "u_right=u_half[1]\n",
    "print(u_right)\n",
    "\n",
    "print(\"\\n lower right : \")\n",
    "l_right=l_half[1]\n",
    "print(l_right)"
   ]
  },
  {
   "cell_type": "markdown",
   "metadata": {},
   "source": [
    "Numerial operations\n"
   ]
  },
  {
   "cell_type": "code",
   "execution_count": 39,
   "metadata": {},
   "outputs": [
    {
     "name": "stdout",
     "output_type": "stream",
     "text": [
      "<class 'list'>\n",
      "[20.1 20.8 21.9 22.5 22.7 22.3 21.8 21.2]\n",
      "<class 'numpy.ndarray'>\n",
      "[22.1 22.8 23.9 24.5 24.7 24.3 23.8 23.2]\n",
      "[18.1 18.8 19.9 20.5 20.7 20.3 19.8 19.2]\n",
      "[40.2 41.6 43.8 45.  45.4 44.6 43.6 42.4]\n",
      "[10.05 10.4  10.95 11.25 11.35 11.15 10.9  10.6 ]\n"
     ]
    }
   ],
   "source": [
    "inp=[20.1,20.8,21.9,22.5,22.7,22.3,21.8,21.2]\n",
    "print(type(inp))\n",
    "#convert the values to 1D array\n",
    "out=np.array(inp)\n",
    "print(out)\n",
    "print(type(out))\n",
    "print(out+2)\n",
    "print(out-2)\n",
    "print(out*2)\n",
    "print(out/2)"
   ]
  },
  {
   "cell_type": "code",
   "execution_count": 47,
   "metadata": {
    "scrolled": true
   },
   "outputs": [
    {
     "name": "stdout",
     "output_type": "stream",
     "text": [
      "[[1 2 3]\n",
      " [4 5 6]\n",
      " [7 8 9]]\n",
      "[[1. 1. 1.]\n",
      " [1. 1. 1.]\n",
      " [1. 1. 1.]]\n",
      "[[ 2.  3.  4.]\n",
      " [ 5.  6.  7.]\n",
      " [ 8.  9. 10.]]\n",
      "[[0. 1. 2.]\n",
      " [3. 4. 5.]\n",
      " [6. 7. 8.]]\n",
      "[[1. 2. 3.]\n",
      " [4. 5. 6.]\n",
      " [7. 8. 9.]]\n",
      "[[1. 2. 3.]\n",
      " [4. 5. 6.]\n",
      " [7. 8. 9.]]\n"
     ]
    }
   ],
   "source": [
    "#arithmetic operations with 2 arrays\n",
    "arr1=np.array([(1,2,3),(4,5,6),(7,8,9)])#2D\n",
    "print(arr1)\n",
    "arr2=np.ones((3,3))#2D\n",
    "print(arr2)\n",
    "print(arr1+arr2)\n",
    "np.add(arr1,arr2)\n",
    "print(np.subtract(arr1,arr2))\n",
    "print(np.multiply(arr1,arr2))\n",
    "print(np.divide(arr1,arr2))"
   ]
  },
  {
   "cell_type": "code",
   "execution_count": 48,
   "metadata": {},
   "outputs": [
    {
     "name": "stdout",
     "output_type": "stream",
     "text": [
      "[[ 6.  6.  6.]\n",
      " [15. 15. 15.]\n",
      " [24. 24. 24.]]\n"
     ]
    }
   ],
   "source": [
    "print(np.dot(arr1,arr2))"
   ]
  },
  {
   "cell_type": "markdown",
   "metadata": {},
   "source": [
    "comparison operator"
   ]
  },
  {
   "cell_type": "code",
   "execution_count": 42,
   "metadata": {},
   "outputs": [
    {
     "name": "stdout",
     "output_type": "stream",
     "text": [
      "[[ True False  True]\n",
      " [False  True False]\n",
      " [ True  True False]]\n",
      "False\n",
      "True\n"
     ]
    }
   ],
   "source": [
    "a=np.array([(11,12,13),(21,22,23),(31,32,33)])\n",
    "b=np.array([(11,102,13),(201,22,203),(31,32,303)])\n",
    "print(a==b) #compares each and every ele n returns boolean output\n",
    "print(np.array_equal(a,b))#gives only one end result -boolean output\n",
    "print(np.array_equal(a,a))"
   ]
  },
  {
   "cell_type": "markdown",
   "metadata": {},
   "source": [
    "Logical operator"
   ]
  },
  {
   "cell_type": "code",
   "execution_count": 44,
   "metadata": {},
   "outputs": [
    {
     "name": "stdout",
     "output_type": "stream",
     "text": [
      "False\n",
      "True\n"
     ]
    }
   ],
   "source": [
    "print(bool(0))#bool output of 0 is true\n",
    "print(bool(88))#bool output of value other than 0 is true"
   ]
  },
  {
   "cell_type": "code",
   "execution_count": null,
   "metadata": {},
   "outputs": [],
   "source": [
    "a=[1,3,False,4] #boolean output of this is True,True,False,True\n",
    "b=[3,0,True,False] #boolean output of this is True,False,True,False\n",
    "print(np.logical_not(a))\n",
    "print(np.logical_not(b))\n",
    "print(np.logical_or(a,b))\n",
    "print(np.logical_and(a,b))"
   ]
  },
  {
   "cell_type": "code",
   "execution_count": 50,
   "metadata": {},
   "outputs": [
    {
     "name": "stdout",
     "output_type": "stream",
     "text": [
      "\n",
      " Dot product: [[[[14 19 15]\n",
      "   [15 15  9]\n",
      "   [13  9 18]]\n",
      "\n",
      "  [[18 24 20]\n",
      "   [20 20 12]\n",
      "   [18 12 22]]\n",
      "\n",
      "  [[15 18 22]\n",
      "   [22 13 12]\n",
      "   [21  9 14]]]\n",
      "\n",
      "\n",
      " [[[16 21 19]\n",
      "   [19 16 11]\n",
      "   [17 10 19]]\n",
      "\n",
      "  [[25 32 32]\n",
      "   [32 23 18]\n",
      "   [29 15 28]]\n",
      "\n",
      "  [[13 18 12]\n",
      "   [12 18  8]\n",
      "   [11 10 17]]]\n",
      "\n",
      "\n",
      " [[[11 14 14]\n",
      "   [14 11  8]\n",
      "   [13  7 12]]\n",
      "\n",
      "  [[17 23 19]\n",
      "   [19 16 11]\n",
      "   [16 10 22]]\n",
      "\n",
      "  [[19 25 23]\n",
      "   [23 17 13]\n",
      "   [20 11 23]]]]\n",
      "\n",
      " Addition: [[[5 4 3]\n",
      "  [6 4 6]\n",
      "  [5 8 5]]\n",
      "\n",
      " [[4 6 3]\n",
      "  [8 5 5]\n",
      "  [8 2 3]]\n",
      "\n",
      " [[3 4 4]\n",
      "  [7 2 4]\n",
      "  [6 3 7]]]\n",
      "\n",
      " Subtraction: [[[ 1 -2  1]\n",
      "  [ 2  0 -2]\n",
      "  [-1  0 -3]]\n",
      "\n",
      " [[ 2 -2  1]\n",
      "  [ 0  3  1]\n",
      "  [ 0  0 -1]]\n",
      "\n",
      " [[ 1  0 -2]\n",
      "  [-1  0  2]\n",
      "  [ 0  1 -1]]]\n",
      "\n",
      " Multiplication: [[[ 6  3  2]\n",
      "  [ 8  4  8]\n",
      "  [ 6 16  4]]\n",
      "\n",
      " [[ 3  8  2]\n",
      "  [16  4  6]\n",
      "  [16  1  2]]\n",
      "\n",
      " [[ 2  4  3]\n",
      "  [12  1  3]\n",
      "  [ 9  2 12]]]\n",
      "\n",
      " Division: [[[1.5        0.33333333 2.        ]\n",
      "  [2.         1.         0.5       ]\n",
      "  [0.66666667 1.         0.25      ]]\n",
      "\n",
      " [[3.         0.5        2.        ]\n",
      "  [1.         4.         1.5       ]\n",
      "  [1.         1.         0.5       ]]\n",
      "\n",
      " [[2.         1.         0.33333333]\n",
      "  [0.75       1.         3.        ]\n",
      "  [1.         2.         0.75      ]]]\n"
     ]
    }
   ],
   "source": [
    "#3Darray -3matrices 3x3 (both the arrays)\n",
    "X = np.array( [[(3, 1, 2),\n",
    "                (4, 2, 2),\n",
    "                (2, 4, 1)],\n",
    "               \n",
    "               [(3, 2, 2),\n",
    "                (4, 4, 3),\n",
    "                (4, 1, 1)],\n",
    "               \n",
    "               [(2, 2, 1),\n",
    "                (3, 1, 3),\n",
    "                (3, 2, 3)]])\n",
    "\n",
    "Y = np.array( [[(2, 3, 1),\n",
    "                (2, 2, 4),\n",
    "                (3, 4, 4)],\n",
    "               \n",
    "               [(1, 4, 1),\n",
    "                (4, 1, 2),\n",
    "                (4, 1, 2)],\n",
    "               \n",
    "               [(1, 2, 3),\n",
    "                (4, 1, 1),\n",
    "                (3, 1, 4)]])\n",
    "\n",
    "print(\"\\n Dot product:\",np.dot(X,Y))\n",
    "print(\"\\n Addition:\",np.add(X,Y))\n",
    "print(\"\\n Subtraction:\",np.subtract(X,Y))\n",
    "print(\"\\n Multiplication:\",np.multiply(X,Y))\n",
    "print(\"\\n Division:\",np.divide(X,Y))"
   ]
  },
  {
   "cell_type": "code",
   "execution_count": 54,
   "metadata": {},
   "outputs": [
    {
     "name": "stdout",
     "output_type": "stream",
     "text": [
      "\n",
      " Dot product: [[[[14 19 15]\n",
      "   [15 15  9]]\n",
      "\n",
      "  [[18 24 20]\n",
      "   [20 20 12]]\n",
      "\n",
      "  [[15 18 22]\n",
      "   [22 13 12]]]\n",
      "\n",
      "\n",
      " [[[16 21 19]\n",
      "   [19 16 11]]\n",
      "\n",
      "  [[25 32 32]\n",
      "   [32 23 18]]\n",
      "\n",
      "  [[13 18 12]\n",
      "   [12 18  8]]]\n",
      "\n",
      "\n",
      " [[[11 14 14]\n",
      "   [14 11  8]]\n",
      "\n",
      "  [[17 23 19]\n",
      "   [19 16 11]]\n",
      "\n",
      "  [[19 25 23]\n",
      "   [23 17 13]]]]\n"
     ]
    },
    {
     "ename": "ValueError",
     "evalue": "operands could not be broadcast together with shapes (3,3,3) (2,3,3) ",
     "output_type": "error",
     "traceback": [
      "\u001b[1;31m---------------------------------------------------------------------------\u001b[0m",
      "\u001b[1;31mValueError\u001b[0m                                Traceback (most recent call last)",
      "\u001b[1;32m<ipython-input-54-fd10dc55bdbb>\u001b[0m in \u001b[0;36m<module>\u001b[1;34m\u001b[0m\n\u001b[0;32m     21\u001b[0m \u001b[1;33m\u001b[0m\u001b[0m\n\u001b[0;32m     22\u001b[0m \u001b[0mprint\u001b[0m\u001b[1;33m(\u001b[0m\u001b[1;34m\"\\n Dot product:\"\u001b[0m\u001b[1;33m,\u001b[0m\u001b[0mnp\u001b[0m\u001b[1;33m.\u001b[0m\u001b[0mdot\u001b[0m\u001b[1;33m(\u001b[0m\u001b[0mX\u001b[0m\u001b[1;33m,\u001b[0m\u001b[0mY\u001b[0m\u001b[1;33m)\u001b[0m\u001b[1;33m)\u001b[0m\u001b[1;33m\u001b[0m\u001b[1;33m\u001b[0m\u001b[0m\n\u001b[1;32m---> 23\u001b[1;33m \u001b[0mprint\u001b[0m\u001b[1;33m(\u001b[0m\u001b[1;34m\"\\n Addition:\"\u001b[0m\u001b[1;33m,\u001b[0m\u001b[0mnp\u001b[0m\u001b[1;33m.\u001b[0m\u001b[0madd\u001b[0m\u001b[1;33m(\u001b[0m\u001b[0mX\u001b[0m\u001b[1;33m,\u001b[0m\u001b[0mY\u001b[0m\u001b[1;33m)\u001b[0m\u001b[1;33m)\u001b[0m\u001b[1;33m\u001b[0m\u001b[1;33m\u001b[0m\u001b[0m\n\u001b[0m\u001b[0;32m     24\u001b[0m \u001b[0mprint\u001b[0m\u001b[1;33m(\u001b[0m\u001b[1;34m\"\\n Subtraction:\"\u001b[0m\u001b[1;33m,\u001b[0m\u001b[0mnp\u001b[0m\u001b[1;33m.\u001b[0m\u001b[0msubtract\u001b[0m\u001b[1;33m(\u001b[0m\u001b[0mX\u001b[0m\u001b[1;33m,\u001b[0m\u001b[0mY\u001b[0m\u001b[1;33m)\u001b[0m\u001b[1;33m)\u001b[0m\u001b[1;33m\u001b[0m\u001b[1;33m\u001b[0m\u001b[0m\n\u001b[0;32m     25\u001b[0m \u001b[0mprint\u001b[0m\u001b[1;33m(\u001b[0m\u001b[1;34m\"\\n Multiplication:\"\u001b[0m\u001b[1;33m,\u001b[0m\u001b[0mnp\u001b[0m\u001b[1;33m.\u001b[0m\u001b[0mmultiply\u001b[0m\u001b[1;33m(\u001b[0m\u001b[0mX\u001b[0m\u001b[1;33m,\u001b[0m\u001b[0mY\u001b[0m\u001b[1;33m)\u001b[0m\u001b[1;33m)\u001b[0m\u001b[1;33m\u001b[0m\u001b[1;33m\u001b[0m\u001b[0m\n",
      "\u001b[1;31mValueError\u001b[0m: operands could not be broadcast together with shapes (3,3,3) (2,3,3) "
     ]
    }
   ],
   "source": [
    "#3Darray -3matrices 3x3 - x-3,3,3;y-2,3,3 (dot alone works)\n",
    "X = np.array( [[(3, 1, 2),\n",
    "                (4, 2, 2),\n",
    "                (2, 4, 1)],\n",
    "               \n",
    "               [(3, 2, 2),\n",
    "                (4, 4, 3),\n",
    "                (4, 1, 1)],\n",
    "               \n",
    "               [(2, 2, 1),\n",
    "                (3, 1, 3),\n",
    "                (3, 2, 3)]])\n",
    "\n",
    "Y = np.array( [[(2, 3, 1),\n",
    "                (2, 2, 4),\n",
    "                (3, 4, 4)],\n",
    "               \n",
    "               [(1, 4, 1),\n",
    "                (4, 1, 2),\n",
    "                (4, 1, 2)]])\n",
    "\n",
    "print(\"\\n Dot product:\",np.dot(X,Y))\n",
    "print(\"\\n Addition:\",np.add(X,Y))\n",
    "print(\"\\n Subtraction:\",np.subtract(X,Y))\n",
    "print(\"\\n Multiplication:\",np.multiply(X,Y))\n",
    "print(\"\\n Division:\",np.divide(X,Y))"
   ]
  },
  {
   "cell_type": "code",
   "execution_count": 52,
   "metadata": {},
   "outputs": [
    {
     "name": "stdout",
     "output_type": "stream",
     "text": [
      "\n",
      " Dot product: [[[[14 19 15]]\n",
      "\n",
      "  [[18 24 20]]\n",
      "\n",
      "  [[15 18 22]]]\n",
      "\n",
      "\n",
      " [[[16 21 19]]\n",
      "\n",
      "  [[25 32 32]]\n",
      "\n",
      "  [[13 18 12]]]\n",
      "\n",
      "\n",
      " [[[11 14 14]]\n",
      "\n",
      "  [[17 23 19]]\n",
      "\n",
      "  [[19 25 23]]]]\n",
      "\n",
      " Addition: [[[5 4 3]\n",
      "  [6 4 6]\n",
      "  [5 8 5]]\n",
      "\n",
      " [[5 5 3]\n",
      "  [6 6 7]\n",
      "  [7 5 5]]\n",
      "\n",
      " [[4 5 2]\n",
      "  [5 3 7]\n",
      "  [6 6 7]]]\n",
      "\n",
      " Subtraction: [[[ 1 -2  1]\n",
      "  [ 2  0 -2]\n",
      "  [-1  0 -3]]\n",
      "\n",
      " [[ 1 -1  1]\n",
      "  [ 2  2 -1]\n",
      "  [ 1 -3 -3]]\n",
      "\n",
      " [[ 0 -1  0]\n",
      "  [ 1 -1 -1]\n",
      "  [ 0 -2 -1]]]\n",
      "\n",
      " Multiplication: [[[ 6  3  2]\n",
      "  [ 8  4  8]\n",
      "  [ 6 16  4]]\n",
      "\n",
      " [[ 6  6  2]\n",
      "  [ 8  8 12]\n",
      "  [12  4  4]]\n",
      "\n",
      " [[ 4  6  1]\n",
      "  [ 6  2 12]\n",
      "  [ 9  8 12]]]\n",
      "\n",
      " Division: [[[1.5        0.33333333 2.        ]\n",
      "  [2.         1.         0.5       ]\n",
      "  [0.66666667 1.         0.25      ]]\n",
      "\n",
      " [[1.5        0.66666667 2.        ]\n",
      "  [2.         2.         0.75      ]\n",
      "  [1.33333333 0.25       0.25      ]]\n",
      "\n",
      " [[1.         0.66666667 1.        ]\n",
      "  [1.5        0.5        0.75      ]\n",
      "  [1.         0.5        0.75      ]]]\n"
     ]
    }
   ],
   "source": [
    "#3Darray -with 2 D - x-3,3,3;y-2D \n",
    "X = np.array( [[(3, 1, 2),\n",
    "                (4, 2, 2),\n",
    "                (2, 4, 1)],\n",
    "               \n",
    "               [(3, 2, 2),\n",
    "                (4, 4, 3),\n",
    "                (4, 1, 1)],\n",
    "               \n",
    "               [(2, 2, 1),\n",
    "                (3, 1, 3),\n",
    "                (3, 2, 3)]])\n",
    "\n",
    "Y = np.array( [[(2, 3, 1),\n",
    "                (2, 2, 4),\n",
    "                (3, 4, 4)]])\n",
    "\n",
    "print(\"\\n Dot product:\",np.dot(X,Y))\n",
    "print(\"\\n Addition:\",np.add(X,Y))\n",
    "print(\"\\n Subtraction:\",np.subtract(X,Y))\n",
    "print(\"\\n Multiplication:\",np.multiply(X,Y))\n",
    "print(\"\\n Division:\",np.divide(X,Y))"
   ]
  },
  {
   "cell_type": "code",
   "execution_count": 56,
   "metadata": {},
   "outputs": [
    {
     "name": "stdout",
     "output_type": "stream",
     "text": [
      "\n",
      " Dot product: [[11 16 17]\n",
      " [14 23 12]\n",
      " [11 12 15]]\n",
      "\n",
      " Addition: [[[5 4 3]\n",
      "  [6 5 3]\n",
      "  [4 7 2]]\n",
      "\n",
      " [[5 5 3]\n",
      "  [6 7 4]\n",
      "  [6 4 2]]\n",
      "\n",
      " [[4 5 2]\n",
      "  [5 4 4]\n",
      "  [5 5 4]]]\n",
      "\n",
      " Subtraction: [[[ 1 -2  1]\n",
      "  [ 2 -1  1]\n",
      "  [ 0  1  0]]\n",
      "\n",
      " [[ 1 -1  1]\n",
      "  [ 2  1  2]\n",
      "  [ 2 -2  0]]\n",
      "\n",
      " [[ 0 -1  0]\n",
      "  [ 1 -2  2]\n",
      "  [ 1 -1  2]]]\n",
      "\n",
      " Multiplication: [[[ 6  3  2]\n",
      "  [ 8  6  2]\n",
      "  [ 4 12  1]]\n",
      "\n",
      " [[ 6  6  2]\n",
      "  [ 8 12  3]\n",
      "  [ 8  3  1]]\n",
      "\n",
      " [[ 4  6  1]\n",
      "  [ 6  3  3]\n",
      "  [ 6  6  3]]]\n",
      "\n",
      " Division: [[[1.5        0.33333333 2.        ]\n",
      "  [2.         0.66666667 2.        ]\n",
      "  [1.         1.33333333 1.        ]]\n",
      "\n",
      " [[1.5        0.66666667 2.        ]\n",
      "  [2.         1.33333333 3.        ]\n",
      "  [2.         0.33333333 1.        ]]\n",
      "\n",
      " [[1.         0.66666667 1.        ]\n",
      "  [1.5        0.33333333 3.        ]\n",
      "  [1.5        0.66666667 3.        ]]]\n"
     ]
    }
   ],
   "source": [
    "#3D with 1D\n",
    "X = np.array( [[(3, 1, 2),\n",
    "                (4, 2, 2),\n",
    "                (2, 4, 1)],\n",
    "               \n",
    "               [(3, 2, 2),\n",
    "                (4, 4, 3),\n",
    "                (4, 1, 1)],\n",
    "               \n",
    "               [(2, 2, 1),\n",
    "                (3, 1, 3),\n",
    "                (3, 2, 3)]])\n",
    "\n",
    "Y = np.array( [2, 3, 1])\n",
    "\n",
    "print(\"\\n Dot product:\",np.dot(X,Y))\n",
    "print(\"\\n Addition:\",np.add(X,Y))\n",
    "print(\"\\n Subtraction:\",np.subtract(X,Y))\n",
    "print(\"\\n Multiplication:\",np.multiply(X,Y))\n",
    "print(\"\\n Division:\",np.divide(X,Y))"
   ]
  },
  {
   "cell_type": "code",
   "execution_count": 59,
   "metadata": {},
   "outputs": [
    {
     "name": "stdout",
     "output_type": "stream",
     "text": [
      "[[1 2 3]\n",
      " [4 5 6]]\n",
      "2\n",
      "(2, 3)\n",
      "6\n"
     ]
    }
   ],
   "source": [
    "#collapsing of arrays\n",
    "e=np.array([(1,2,3),(4,5,6)])\n",
    "print(e)\n",
    "print(e.ndim)\n",
    "print(e.shape)\n",
    "print(e.size)"
   ]
  },
  {
   "cell_type": "code",
   "execution_count": 61,
   "metadata": {},
   "outputs": [
    {
     "name": "stdout",
     "output_type": "stream",
     "text": [
      "[1 2 3 4 5 6]\n",
      "1\n"
     ]
    }
   ],
   "source": [
    "print(e.flatten())\n",
    "print(e.flatten().ndim)"
   ]
  },
  {
   "cell_type": "code",
   "execution_count": 62,
   "metadata": {},
   "outputs": [
    {
     "name": "stdout",
     "output_type": "stream",
     "text": [
      "[1 2 3 4 5 6]\n"
     ]
    }
   ],
   "source": [
    "print(np.ravel(e))#e.ravel()"
   ]
  },
  {
   "cell_type": "code",
   "execution_count": 63,
   "metadata": {},
   "outputs": [
    {
     "name": "stdout",
     "output_type": "stream",
     "text": [
      "[[1 2 3 4 5 6]]\n"
     ]
    }
   ],
   "source": [
    "print(e.reshape(1,6))"
   ]
  },
  {
   "cell_type": "code",
   "execution_count": 66,
   "metadata": {},
   "outputs": [
    {
     "name": "stdout",
     "output_type": "stream",
     "text": [
      "[1 2 3]\n",
      "[4 5 6]\n",
      "horizontal append:  [1 2 3 4 5 6]\n",
      "vertical append:  [[1 2 3]\n",
      " [4 5 6]]\n"
     ]
    }
   ],
   "source": [
    "#hstack and vstack\n",
    "f=np.array([1,2,3])#1D\n",
    "g=np.array([4,5,6])#1D\n",
    "print(f)\n",
    "print(g)\n",
    "print(\"horizontal append: \",np.hstack((f,g)))\n",
    "print(\"vertical append: \",np.vstack((f,g)))"
   ]
  },
  {
   "cell_type": "code",
   "execution_count": 67,
   "metadata": {},
   "outputs": [
    {
     "name": "stdout",
     "output_type": "stream",
     "text": [
      "[[1 2]\n",
      " [3 4]]\n",
      "[[5 6]\n",
      " [7 8]]\n"
     ]
    }
   ],
   "source": [
    "#matmul, matric product of 2 arrays\n",
    "h=np.array([(1,2),(3,4)])\n",
    "i=np.array([(5,6),(7,8)])\n",
    "print(h)\n",
    "print(i)"
   ]
  },
  {
   "cell_type": "code",
   "execution_count": 68,
   "metadata": {},
   "outputs": [
    {
     "name": "stdout",
     "output_type": "stream",
     "text": [
      "[[19 22]\n",
      " [43 50]]\n"
     ]
    }
   ],
   "source": [
    "print(np.matmul(h,i))"
   ]
  },
  {
   "cell_type": "code",
   "execution_count": 69,
   "metadata": {},
   "outputs": [
    {
     "name": "stdout",
     "output_type": "stream",
     "text": [
      "[[19 22]\n",
      " [43 50]]\n"
     ]
    }
   ],
   "source": [
    "print(np.dot(h,i))"
   ]
  },
  {
   "cell_type": "code",
   "execution_count": 70,
   "metadata": {},
   "outputs": [
    {
     "name": "stdout",
     "output_type": "stream",
     "text": [
      "[[ 5 12]\n",
      " [21 32]]\n"
     ]
    }
   ],
   "source": [
    "print(np.multiply(h,i))"
   ]
  },
  {
   "cell_type": "code",
   "execution_count": 1,
   "metadata": {},
   "outputs": [
    {
     "data": {
      "text/plain": [
       "\"dtype=np.dtype([('density','float'),('volume','i4')])\\n(393.1,25),(337,2342),(256.2,4353)\\nretrieve density col\\nretrieve volume col\\nextract 0 till 2 ind row with 2 int from density \\nretrieve 0 ind col from the array\""
      ]
     },
     "execution_count": 1,
     "metadata": {},
     "output_type": "execute_result"
    }
   ],
   "source": [
    "#USECASE\n",
    "'''dtype=np.dtype([('density','float'),('volume','i4')])\n",
    "(393.1,25),(337,2342),(256.2,4353)\n",
    "retrieve density col\n",
    "retrieve volume col\n",
    "extract 0 till 2 ind row with 2 int from density \n",
    "retrieve 0 ind col from the array'''"
   ]
  },
  {
   "cell_type": "code",
   "execution_count": 2,
   "metadata": {},
   "outputs": [
    {
     "data": {
      "text/plain": [
       "\"create a dataset with cols 'name' (alpha,beta,gamma,delta), 'age' (23,45,12,65),'marks' (34.54,89.3,98.23,99)\\nextract gamma's age\\nmarks from 0th till last with 2 intervals; age from 0th till last with 2 intervals- single line command\""
      ]
     },
     "execution_count": 2,
     "metadata": {},
     "output_type": "execute_result"
    }
   ],
   "source": [
    "#USECASE\n",
    "'''create a dataset with cols 'name' (alpha,beta,gamma,delta), 'age' (23,45,12,65),'marks' (34.54,89.3,98.23,99)\n",
    "extract gamma's age\n",
    "marks from 0th till last with 2 intervals; age from 0th till last with 2 intervals- single line command'''"
   ]
  },
  {
   "cell_type": "code",
   "execution_count": null,
   "metadata": {},
   "outputs": [],
   "source": []
  }
 ],
 "metadata": {
  "kernelspec": {
   "display_name": "Python 3",
   "language": "python",
   "name": "python3"
  },
  "language_info": {
   "codemirror_mode": {
    "name": "ipython",
    "version": 3
   },
   "file_extension": ".py",
   "mimetype": "text/x-python",
   "name": "python",
   "nbconvert_exporter": "python",
   "pygments_lexer": "ipython3",
   "version": "3.7.1"
  }
 },
 "nbformat": 4,
 "nbformat_minor": 2
}
