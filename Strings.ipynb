{
 "cells": [
  {
   "cell_type": "code",
   "execution_count": 2,
   "metadata": {},
   "outputs": [],
   "source": [
    "a=10\n",
    "b=10.56\n",
    "c=\"akjsb\"\n",
    "d=complex(2)"
   ]
  },
  {
   "cell_type": "code",
   "execution_count": 3,
   "metadata": {},
   "outputs": [
    {
     "data": {
      "text/plain": [
       "int"
      ]
     },
     "execution_count": 3,
     "metadata": {},
     "output_type": "execute_result"
    }
   ],
   "source": [
    "type(a)"
   ]
  },
  {
   "cell_type": "code",
   "execution_count": 4,
   "metadata": {},
   "outputs": [
    {
     "data": {
      "text/plain": [
       "float"
      ]
     },
     "execution_count": 4,
     "metadata": {},
     "output_type": "execute_result"
    }
   ],
   "source": [
    "type(b)"
   ]
  },
  {
   "cell_type": "code",
   "execution_count": 5,
   "metadata": {},
   "outputs": [
    {
     "data": {
      "text/plain": [
       "str"
      ]
     },
     "execution_count": 5,
     "metadata": {},
     "output_type": "execute_result"
    }
   ],
   "source": [
    "type(c)"
   ]
  },
  {
   "cell_type": "code",
   "execution_count": 6,
   "metadata": {},
   "outputs": [
    {
     "data": {
      "text/plain": [
       "complex"
      ]
     },
     "execution_count": 6,
     "metadata": {},
     "output_type": "execute_result"
    }
   ],
   "source": [
    "type(d)"
   ]
  },
  {
   "cell_type": "code",
   "execution_count": 7,
   "metadata": {},
   "outputs": [
    {
     "name": "stdout",
     "output_type": "stream",
     "text": [
      "1\n",
      "2.5\n",
      "sdbj\n"
     ]
    }
   ],
   "source": [
    "a,b,c=1,2.5,\"sdbj\"\n",
    "print(a)\n",
    "print(b)\n",
    "print(c)"
   ]
  },
  {
   "cell_type": "code",
   "execution_count": 8,
   "metadata": {},
   "outputs": [
    {
     "name": "stdout",
     "output_type": "stream",
     "text": [
      "5\n",
      "5\n",
      "5\n"
     ]
    }
   ],
   "source": [
    "a=b=c=5\n",
    "print(a);print(b);print(c)"
   ]
  },
  {
   "cell_type": "code",
   "execution_count": 9,
   "metadata": {},
   "outputs": [
    {
     "name": "stdout",
     "output_type": "stream",
     "text": [
      "inside func1= 10\n",
      "inside func2= 5\n"
     ]
    }
   ],
   "source": [
    "a=5\n",
    "def func1():\n",
    "    a=10\n",
    "    print('inside func1=',a)\n",
    "def func2():\n",
    "    print('inside func2=',a)\n",
    "func1()\n",
    "func2()"
   ]
  },
  {
   "cell_type": "code",
   "execution_count": 10,
   "metadata": {},
   "outputs": [
    {
     "name": "stdout",
     "output_type": "stream",
     "text": [
      "Inside func1= 15\n",
      "inside func2= 15\n"
     ]
    }
   ],
   "source": [
    "def func1():\n",
    "    global a\n",
    "    a=15\n",
    "    print('Inside func1=',a)\n",
    "def func2():\n",
    "    print('inside func2=',a)\n",
    "func1()\n",
    "func2()"
   ]
  },
  {
   "cell_type": "markdown",
   "metadata": {},
   "source": [
    "# Data  Types"
   ]
  },
  {
   "cell_type": "code",
   "execution_count": 11,
   "metadata": {},
   "outputs": [],
   "source": [
    "x=1\n",
    "y=2.5\n",
    "z=2+3j"
   ]
  },
  {
   "cell_type": "code",
   "execution_count": 12,
   "metadata": {},
   "outputs": [
    {
     "data": {
      "text/plain": [
       "int"
      ]
     },
     "execution_count": 12,
     "metadata": {},
     "output_type": "execute_result"
    }
   ],
   "source": [
    "type(x)"
   ]
  },
  {
   "cell_type": "code",
   "execution_count": 13,
   "metadata": {},
   "outputs": [
    {
     "data": {
      "text/plain": [
       "float"
      ]
     },
     "execution_count": 13,
     "metadata": {},
     "output_type": "execute_result"
    }
   ],
   "source": [
    "type(y)"
   ]
  },
  {
   "cell_type": "code",
   "execution_count": 14,
   "metadata": {},
   "outputs": [
    {
     "data": {
      "text/plain": [
       "complex"
      ]
     },
     "execution_count": 14,
     "metadata": {},
     "output_type": "execute_result"
    }
   ],
   "source": [
    "type(z)"
   ]
  },
  {
   "cell_type": "code",
   "execution_count": 15,
   "metadata": {},
   "outputs": [],
   "source": [
    "a=True"
   ]
  },
  {
   "cell_type": "code",
   "execution_count": 16,
   "metadata": {},
   "outputs": [
    {
     "data": {
      "text/plain": [
       "bool"
      ]
     },
     "execution_count": 16,
     "metadata": {},
     "output_type": "execute_result"
    }
   ],
   "source": [
    "type(a)"
   ]
  },
  {
   "cell_type": "code",
   "execution_count": 17,
   "metadata": {},
   "outputs": [],
   "source": [
    "a=-5j"
   ]
  },
  {
   "cell_type": "code",
   "execution_count": 18,
   "metadata": {},
   "outputs": [
    {
     "data": {
      "text/plain": [
       "(-0-5j)"
      ]
     },
     "execution_count": 18,
     "metadata": {},
     "output_type": "execute_result"
    }
   ],
   "source": [
    "a"
   ]
  },
  {
   "cell_type": "markdown",
   "metadata": {},
   "source": [
    "#  Strings"
   ]
  },
  {
   "cell_type": "code",
   "execution_count": 19,
   "metadata": {},
   "outputs": [
    {
     "name": "stdout",
     "output_type": "stream",
     "text": [
      "strings are\n",
      "immutable\n"
     ]
    }
   ],
   "source": [
    "print(\"strings are\\nimmutable\")"
   ]
  },
  {
   "cell_type": "code",
   "execution_count": 20,
   "metadata": {},
   "outputs": [
    {
     "name": "stdout",
     "output_type": "stream",
     "text": [
      "string are \\ immutable\n"
     ]
    }
   ],
   "source": [
    "print('string are \\\\ immutable')"
   ]
  },
  {
   "cell_type": "code",
   "execution_count": 21,
   "metadata": {},
   "outputs": [
    {
     "name": "stdout",
     "output_type": "stream",
     "text": [
      "string are \t immutable\n"
     ]
    }
   ],
   "source": [
    "print('string are \\t immutable')"
   ]
  },
  {
   "cell_type": "code",
   "execution_count": 22,
   "metadata": {},
   "outputs": [
    {
     "name": "stdout",
     "output_type": "stream",
     "text": [
      "string are ' immutable'\n"
     ]
    }
   ],
   "source": [
    "print('string are \\' immutable\\'')"
   ]
  },
  {
   "cell_type": "code",
   "execution_count": 23,
   "metadata": {},
   "outputs": [
    {
     "name": "stdout",
     "output_type": "stream",
     "text": [
      "string are \" immutable\"\n"
     ]
    }
   ],
   "source": [
    "print('string are \\\" immutable\\\"')"
   ]
  },
  {
   "cell_type": "code",
   "execution_count": 24,
   "metadata": {},
   "outputs": [],
   "source": [
    "str1=\"ashok Karthik\""
   ]
  },
  {
   "cell_type": "code",
   "execution_count": 25,
   "metadata": {},
   "outputs": [
    {
     "name": "stdout",
     "output_type": "stream",
     "text": [
      "hok Ka\n"
     ]
    }
   ],
   "source": [
    "print(str1[2:8])"
   ]
  },
  {
   "cell_type": "code",
   "execution_count": 26,
   "metadata": {},
   "outputs": [
    {
     "name": "stdout",
     "output_type": "stream",
     "text": [
      "hik\n"
     ]
    }
   ],
   "source": [
    "print(str1[-3:])"
   ]
  },
  {
   "cell_type": "code",
   "execution_count": 27,
   "metadata": {},
   "outputs": [
    {
     "name": "stdout",
     "output_type": "stream",
     "text": [
      "kihtraK kohsa\n"
     ]
    }
   ],
   "source": [
    "print(str1[::-1])"
   ]
  },
  {
   "cell_type": "code",
   "execution_count": 28,
   "metadata": {},
   "outputs": [],
   "source": [
    "Strr1=' Hello, World '"
   ]
  },
  {
   "cell_type": "code",
   "execution_count": 29,
   "metadata": {},
   "outputs": [
    {
     "ename": "TypeError",
     "evalue": "'str' object does not support item assignment",
     "output_type": "error",
     "traceback": [
      "\u001b[1;31m---------------------------------------------------------------------------\u001b[0m",
      "\u001b[1;31mTypeError\u001b[0m                                 Traceback (most recent call last)",
      "\u001b[1;32m<ipython-input-29-506b31a54515>\u001b[0m in \u001b[0;36m<module>\u001b[1;34m\u001b[0m\n\u001b[1;32m----> 1\u001b[1;33m \u001b[0mStrr1\u001b[0m\u001b[1;33m[\u001b[0m\u001b[1;36m1\u001b[0m\u001b[1;33m]\u001b[0m\u001b[1;33m=\u001b[0m\u001b[1;34m'h'\u001b[0m\u001b[1;33m\u001b[0m\u001b[1;33m\u001b[0m\u001b[0m\n\u001b[0m",
      "\u001b[1;31mTypeError\u001b[0m: 'str' object does not support item assignment"
     ]
    }
   ],
   "source": [
    "Strr1[1]='h'"
   ]
  },
  {
   "cell_type": "code",
   "execution_count": 30,
   "metadata": {},
   "outputs": [
    {
     "name": "stdout",
     "output_type": "stream",
     "text": [
      "3\n"
     ]
    }
   ],
   "source": [
    "print(Strr1.count('l'))"
   ]
  },
  {
   "cell_type": "code",
   "execution_count": 31,
   "metadata": {},
   "outputs": [
    {
     "data": {
      "text/plain": [
       "14"
      ]
     },
     "execution_count": 31,
     "metadata": {},
     "output_type": "execute_result"
    }
   ],
   "source": [
    "len(Strr1)"
   ]
  },
  {
   "cell_type": "code",
   "execution_count": 32,
   "metadata": {},
   "outputs": [
    {
     "name": "stdout",
     "output_type": "stream",
     "text": [
      "Hello, World\n"
     ]
    }
   ],
   "source": [
    "print(Strr1.strip())"
   ]
  },
  {
   "cell_type": "code",
   "execution_count": 33,
   "metadata": {},
   "outputs": [
    {
     "name": "stdout",
     "output_type": "stream",
     "text": [
      " hello, world \n"
     ]
    }
   ],
   "source": [
    "print(Strr1.lower())"
   ]
  },
  {
   "cell_type": "code",
   "execution_count": 34,
   "metadata": {},
   "outputs": [
    {
     "name": "stdout",
     "output_type": "stream",
     "text": [
      " HELLO, WORLD \n"
     ]
    }
   ],
   "source": [
    "print(Strr1.upper())"
   ]
  },
  {
   "cell_type": "code",
   "execution_count": 35,
   "metadata": {},
   "outputs": [
    {
     "name": "stdout",
     "output_type": "stream",
     "text": [
      "[' Hello', ' World ']\n"
     ]
    }
   ],
   "source": [
    "print(Strr1.split(','))"
   ]
  },
  {
   "cell_type": "code",
   "execution_count": 36,
   "metadata": {},
   "outputs": [
    {
     "name": "stdout",
     "output_type": "stream",
     "text": [
      "3\n"
     ]
    }
   ],
   "source": [
    "print(Strr1.count('l'))"
   ]
  },
  {
   "cell_type": "code",
   "execution_count": 37,
   "metadata": {},
   "outputs": [
    {
     "name": "stdout",
     "output_type": "stream",
     "text": [
      " Heaao, Worad \n"
     ]
    }
   ],
   "source": [
    "print(Strr1.replace('l','a'))"
   ]
  },
  {
   "cell_type": "code",
   "execution_count": 38,
   "metadata": {},
   "outputs": [],
   "source": [
    "str1=\"sjhbd\"\n",
    "str12=\"sjkbsjbsj\""
   ]
  },
  {
   "cell_type": "code",
   "execution_count": 39,
   "metadata": {},
   "outputs": [
    {
     "data": {
      "text/plain": [
       "'sjhbdsjkbsjbsj'"
      ]
     },
     "execution_count": 39,
     "metadata": {},
     "output_type": "execute_result"
    }
   ],
   "source": [
    "str3=str1+str12\n",
    "str3"
   ]
  },
  {
   "cell_type": "code",
   "execution_count": 40,
   "metadata": {},
   "outputs": [
    {
     "data": {
      "text/plain": [
       "'sjhbdsjhbdsjhbd'"
      ]
     },
     "execution_count": 40,
     "metadata": {},
     "output_type": "execute_result"
    }
   ],
   "source": [
    "str3=str1*3\n",
    "str3"
   ]
  },
  {
   "cell_type": "code",
   "execution_count": 41,
   "metadata": {},
   "outputs": [
    {
     "data": {
      "text/plain": [
       "True"
      ]
     },
     "execution_count": 41,
     "metadata": {},
     "output_type": "execute_result"
    }
   ],
   "source": [
    "str1.isalpha()"
   ]
  },
  {
   "cell_type": "code",
   "execution_count": 42,
   "metadata": {},
   "outputs": [
    {
     "data": {
      "text/plain": [
       "False"
      ]
     },
     "execution_count": 42,
     "metadata": {},
     "output_type": "execute_result"
    }
   ],
   "source": [
    "str1.isdigit()"
   ]
  },
  {
   "cell_type": "code",
   "execution_count": 43,
   "metadata": {},
   "outputs": [
    {
     "name": "stdout",
     "output_type": "stream",
     "text": [
      "['k', 'j', 'd']\n",
      "['3', '4', '6', '4']\n"
     ]
    }
   ],
   "source": [
    "str1=\"kjd3464\"\n",
    "a=[]\n",
    "d=[]\n",
    "for i in str1:\n",
    "    if i.isalpha():\n",
    "        a.append(i)\n",
    "    elif i.isdigit():\n",
    "        d.append(i)\n",
    "print(a)\n",
    "print(d)"
   ]
  },
  {
   "cell_type": "code",
   "execution_count": 44,
   "metadata": {},
   "outputs": [
    {
     "name": "stdout",
     "output_type": "stream",
     "text": [
      "enter the string  :kjfnjngd3d545 545fg4f\n",
      "k j f n j n g d d f g f\n",
      "3 5 4 5 5 4 5 4\n"
     ]
    }
   ],
   "source": [
    "def func1(str5):\n",
    "    global a\n",
    "    a=[]\n",
    "    global b\n",
    "    b=[]\n",
    "    for i in str5:\n",
    "        if i.isalpha():\n",
    "            a.append(i)\n",
    "        elif i.isdigit():\n",
    "            b.append(i)\n",
    "    #print(a)\n",
    "    #print(b)\n",
    "    #for j in a:\n",
    "        #print(j, end=' ')\n",
    "    return a,b\n",
    "x=func1(input(\"enter the string  :\"))\n",
    "print(' '.join(a))\n",
    "print(' '.join(b))\n",
    "            "
   ]
  },
  {
   "cell_type": "markdown",
   "metadata": {},
   "source": [
    "To find length of a string"
   ]
  },
  {
   "cell_type": "code",
   "execution_count": 45,
   "metadata": {},
   "outputs": [
    {
     "name": "stdout",
     "output_type": "stream",
     "text": [
      "21\n"
     ]
    }
   ],
   "source": [
    "def funlk(str6):\n",
    "    count=0\n",
    "    for i in str6:\n",
    "        count += 1\n",
    "    return count\n",
    "print(funlk(\"khbf f dkfjnjfndnkfjn\"))"
   ]
  },
  {
   "cell_type": "code",
   "execution_count": 46,
   "metadata": {},
   "outputs": [
    {
     "data": {
      "text/plain": [
       "(['g', 'o', 'o', 'g', 'l', 'e', 'c', 'o', 'm'], [])"
      ]
     },
     "execution_count": 46,
     "metadata": {},
     "output_type": "execute_result"
    }
   ],
   "source": [
    "func1('google.com')"
   ]
  },
  {
   "cell_type": "markdown",
   "metadata": {},
   "source": [
    "Write a Python program to count the number of characters (character frequency) in a string."
   ]
  },
  {
   "cell_type": "code",
   "execution_count": 47,
   "metadata": {},
   "outputs": [
    {
     "name": "stdout",
     "output_type": "stream",
     "text": [
      "{'g': 2, 'o': 3, 'l': 1, 'e': 1, '.': 1, 'c': 1, 'm': 1}\n"
     ]
    }
   ],
   "source": [
    "def numberofchar(str7):\n",
    "    dict={}\n",
    "    for i in str7:\n",
    "        keys=dict.keys()\n",
    "        if i in keys:\n",
    "            dict[i] += 1\n",
    "        else:\n",
    "            dict[i] = 1\n",
    "    return dict\n",
    "        \n",
    "print(numberofchar('google.com'))"
   ]
  },
  {
   "cell_type": "code",
   "execution_count": 48,
   "metadata": {},
   "outputs": [
    {
     "name": "stdout",
     "output_type": "stream",
     "text": [
      "{'k': 1, 's': 3, 'j': 1, 'f': 3, '3': 2, '5': 3, '4': 2, ' ': 1, 'd': 1}\n"
     ]
    }
   ],
   "source": [
    "def skj(str8):\n",
    "    dict1={}\n",
    "    for i in str8:\n",
    "        keys1=dict1.keys()\n",
    "        if i in keys1:\n",
    "            dict1[i]+=1\n",
    "        else:\n",
    "            dict1[i]=1\n",
    "    return dict1\n",
    "print(skj('ksjf3fs54 3s54f5d'))\n",
    "    "
   ]
  },
  {
   "cell_type": "markdown",
   "metadata": {},
   "source": [
    "#wap that accepts a sentence and calculates the number of letters and digits in sentence"
   ]
  },
  {
   "cell_type": "code",
   "execution_count": 49,
   "metadata": {},
   "outputs": [
    {
     "name": "stdout",
     "output_type": "stream",
     "text": [
      "chracters 11\n",
      "digits 10\n"
     ]
    },
    {
     "data": {
      "text/plain": [
       "(11, 10)"
      ]
     },
     "execution_count": 49,
     "metadata": {},
     "output_type": "execute_result"
    }
   ],
   "source": [
    "def func6(st7):\n",
    "    a=b=0\n",
    "    for i in st7:\n",
    "        if i.isalpha():\n",
    "            a=a+1\n",
    "        elif i.isdigit():\n",
    "            b=b+1\n",
    "    print('chracters',a)\n",
    "    print('digits',b)\n",
    "    return a,b\n",
    "func6('kjb13s15s5f1s31f65sdf')\n",
    "            "
   ]
  },
  {
   "cell_type": "code",
   "execution_count": 50,
   "metadata": {},
   "outputs": [
    {
     "name": "stdout",
     "output_type": "stream",
     "text": [
      "str2 is greater\n"
     ]
    }
   ],
   "source": [
    "str1='kfb fkf'\n",
    "str2='kjs sfknfkjnf '\n",
    "if(len(str1)==len(str2)):\n",
    "    print('strings are equal')\n",
    "elif(len(str1)>len(str2)):\n",
    "    print('str1 is greater')\n",
    "else:\n",
    "    print('str2 is greater')"
   ]
  },
  {
   "cell_type": "code",
   "execution_count": 70,
   "metadata": {},
   "outputs": [
    {
     "name": "stdout",
     "output_type": "stream",
     "text": [
      "['k', 'j', 'a', 'f', 'n', 'k', 'j', 's', 'f', 'i', 'u', 'y', 'j', 's', 'w', 'r', 'u', 'j', 'i', 'f', 'j', 'k', 's']\n",
      "[2, 4, 3, 9, 8, 9, 5, 4, 0, 9, 3, 4, 2, 0, 4, 9, 2, 4]\n",
      "81\n",
      "k j a f n k j s f i u y j s w r u j i f j k s\n"
     ]
    }
   ],
   "source": [
    "import functools\n",
    "str8='kjafnkjs fiu24y3js98wr95409u3420492j4ifjks'\n",
    "a=[]\n",
    "b=[]\n",
    "for i in str8:\n",
    "    if i.isalpha():\n",
    "        a.append(i)\n",
    "    elif i.isdigit():\n",
    "        b.append(int(i))\n",
    "print(a)\n",
    "print(b)\n",
    "print(functools.reduce(lambda x,y:x+y,b))\n",
    "newdig=' '.join(a)\n",
    "print(newdig)\n"
   ]
  },
  {
   "cell_type": "code",
   "execution_count": 71,
   "metadata": {},
   "outputs": [
    {
     "name": "stdout",
     "output_type": "stream",
     "text": [
      "{'k': 1, 's': 4, 'j': 2, 'f': 8, '3': 2, '5': 3, '4': 3, 'b': 1, 'n': 1, 'S': 1, 'd': 1, 'a': 1}\n"
     ]
    }
   ],
   "source": [
    "a={}\n",
    "str9='ksjffs354ffbjnff354fs54fSdsa'\n",
    "for i in str9:\n",
    "    if i in a.keys():\n",
    "        a[i]+=1\n",
    "    else:\n",
    "        a[i]=1\n",
    "print(a)\n",
    "    "
   ]
  },
  {
   "cell_type": "code",
   "execution_count": 73,
   "metadata": {},
   "outputs": [
    {
     "name": "stdout",
     "output_type": "stream",
     "text": [
      "enter a sentenceASHOK ashok arun arun arun ashok\n",
      "{'ASHOK': 1, 'ashok': 2, 'arun': 3}\n",
      "ASHOK    1\n",
      "ashok    2\n",
      "arun     3\n",
      "dtype: int64\n",
      "3\n",
      "1\n"
     ]
    }
   ],
   "source": [
    "import pandas as pd\n",
    "a={}\n",
    "s=input('enter a sentence')\n",
    "new=s.split(' ')\n",
    "for i in new:\n",
    "    if i in a.keys():\n",
    "        a[i]+=1\n",
    "    else:\n",
    "        a[i]=1\n",
    "print(a)\n",
    "c=pd.Series(a)\n",
    "print(c)\n",
    "print(c.max())\n",
    "print(c.min())\n"
   ]
  },
  {
   "cell_type": "markdown",
   "metadata": {},
   "source": [
    "Write a Python program to get a string made of the first 2 and the last 2 chars from a given a string. If the string length is less than 2, return instead of the empty string."
   ]
  },
  {
   "cell_type": "code",
   "execution_count": 74,
   "metadata": {},
   "outputs": [
    {
     "name": "stdout",
     "output_type": "stream",
     "text": [
      "asik\n",
      "\n",
      "assa\n",
      "\n"
     ]
    }
   ],
   "source": [
    "def funct1(strr):\n",
    "    if len(strr)<=2:\n",
    "        return ''\n",
    "    else:\n",
    "        return strr[:2]+strr[-2:]\n",
    "print(funct1('ashokkarthik'))\n",
    "print(funct1('as'))\n",
    "print(funct1('asa'))\n",
    "print(funct1('a'))"
   ]
  },
  {
   "cell_type": "code",
   "execution_count": 75,
   "metadata": {},
   "outputs": [
    {
     "name": "stdout",
     "output_type": "stream",
     "text": [
      "$sfhk s$lks ff dfl\n"
     ]
    }
   ],
   "source": [
    "def funct(str1):\n",
    "    char=str1[0]\n",
    "    str1=str1.replace(char,'$')\n",
    "    return str1\n",
    "print(funct('asfhk salks ff dfl'))"
   ]
  },
  {
   "cell_type": "code",
   "execution_count": 76,
   "metadata": {},
   "outputs": [
    {
     "name": "stdout",
     "output_type": "stream",
     "text": [
      "['$skjh', '$ks', '$irjt', '$rkjn', '$ekjrh$e', '$ksehj']\n"
     ]
    }
   ],
   "source": [
    "a=[]\n",
    "def funct(str1):\n",
    "    b=str1.split(' ')\n",
    "    for i in b:\n",
    "        char=i[0]\n",
    "        i=i.replace(char,'$')\n",
    "        a.append(i)\n",
    "    return a\n",
    "print(funct('askjh aks oirjt erkjn wekjrhwe lksehj'))"
   ]
  },
  {
   "cell_type": "markdown",
   "metadata": {},
   "source": [
    "Write a Python program to get a single string from two given strings, separated by a space and swap the first two characters of each string."
   ]
  },
  {
   "cell_type": "code",
   "execution_count": 77,
   "metadata": {},
   "outputs": [
    {
     "name": "stdout",
     "output_type": "stream",
     "text": [
      "xyc abz\n"
     ]
    }
   ],
   "source": [
    "def funct(a,b):\n",
    "    newa=b[:2]+a[2:]\n",
    "    newb=a[:2]+b[2:]\n",
    "    print(newa,newb)\n",
    "funct('abc','xyz')"
   ]
  },
  {
   "cell_type": "markdown",
   "metadata": {},
   "source": [
    " Write a Python program to add 'ing' at the end of a given string (length should be at least 3). If the given string already ends with 'ing' then add 'ly' instead. If the string length of the given string is less than 3, leave it unchanged"
   ]
  },
  {
   "cell_type": "code",
   "execution_count": 78,
   "metadata": {},
   "outputs": [
    {
     "name": "stdout",
     "output_type": "stream",
     "text": [
      "as\n",
      "ash\n",
      "ashingly\n",
      "ashining\n"
     ]
    }
   ],
   "source": [
    "def funct(str1):\n",
    "    if len(str1)<=3:\n",
    "        return str1\n",
    "    elif len(str1)>3:\n",
    "        if str1[-3:]=='ing':\n",
    "            str1=str1+'ly'\n",
    "        else:\n",
    "            str1=str1+'ing'\n",
    "    return str1\n",
    "print(funct('as'))\n",
    "print(funct('ash'))\n",
    "print(funct('ashing'))\n",
    "print(funct('ashin'))\n"
   ]
  },
  {
   "cell_type": "markdown",
   "metadata": {},
   "source": [
    "Write a Python function that takes a list of words and returns the length of the longest one"
   ]
  },
  {
   "cell_type": "code",
   "execution_count": 79,
   "metadata": {},
   "outputs": [
    {
     "name": "stdout",
     "output_type": "stream",
     "text": [
      "sfbsjdfb\n"
     ]
    }
   ],
   "source": [
    "a=[]\n",
    "def funct1(str1):\n",
    "    for i in str1:\n",
    "        a.append((len(i),i))\n",
    "        a.sort()\n",
    "    return a[-1][1]\n",
    "print(funct1(['ashok','skjfs','sfbsjdfb']))\n",
    "    "
   ]
  },
  {
   "cell_type": "code",
   "execution_count": 80,
   "metadata": {},
   "outputs": [
    {
     "name": "stdout",
     "output_type": "stream",
     "text": [
      "(8, 'sfbsjdfb')\n"
     ]
    }
   ],
   "source": [
    "#longest\n",
    "a=[]\n",
    "def funct1(str1):\n",
    "    for i in str1:\n",
    "        a.append((len(i),i))\n",
    "        a.sort()\n",
    "    return a[-1]\n",
    "print(funct1(['ashok','skjfs','sfbsjdfb']))\n",
    "    "
   ]
  },
  {
   "cell_type": "code",
   "execution_count": 81,
   "metadata": {},
   "outputs": [
    {
     "name": "stdout",
     "output_type": "stream",
     "text": [
      "(5, 'ashok')\n"
     ]
    }
   ],
   "source": [
    "#smallest\n",
    "a=[]\n",
    "def funct1(str1):\n",
    "    for i in str1:\n",
    "        a.append((len(i),i))\n",
    "        a.sort()\n",
    "    return a[0]\n",
    "print(funct1(['ashok','skjfs','sfbsjdfb']))\n",
    "    "
   ]
  },
  {
   "cell_type": "markdown",
   "metadata": {},
   "source": [
    "Write a Python program to remove the nth index character from a nonempty string."
   ]
  },
  {
   "cell_type": "code",
   "execution_count": 82,
   "metadata": {},
   "outputs": [
    {
     "name": "stdout",
     "output_type": "stream",
     "text": [
      "pyhon\n",
      "ython\n",
      "pytho\n"
     ]
    }
   ],
   "source": [
    "def removestr(str1,n):\n",
    "    right=str1[:n]\n",
    "    left=str1[n+1:]\n",
    "    return right+left\n",
    "print(removestr('python',2))\n",
    "print(removestr('python',0))\n",
    "print(removestr('python',5))"
   ]
  },
  {
   "cell_type": "markdown",
   "metadata": {},
   "source": [
    "Write a Python program to change a given string to a new string where the first and last chars have been exchanged."
   ]
  },
  {
   "cell_type": "code",
   "execution_count": 83,
   "metadata": {},
   "outputs": [
    {
     "name": "stdout",
     "output_type": "stream",
     "text": [
      "kshoa\n"
     ]
    }
   ],
   "source": [
    "def funct1(str1):\n",
    "    return str1[-1]+str1[1:-1]+str1[0]\n",
    "print(funct1('ashok'))"
   ]
  },
  {
   "cell_type": "markdown",
   "metadata": {},
   "source": [
    "Write a Python program to remove the characters which have odd index values of a given string."
   ]
  },
  {
   "cell_type": "code",
   "execution_count": 84,
   "metadata": {},
   "outputs": [
    {
     "name": "stdout",
     "output_type": "stream",
     "text": [
      "ahkati\n",
      "ahhk\n"
     ]
    }
   ],
   "source": [
    "def funct1(str1):\n",
    "    result=\"\"\n",
    "    for i in range(len(str1)):\n",
    "        if i%2==0:\n",
    "            result=result+str1[i]\n",
    "    return result\n",
    "print(funct1('ashokkarthik'))\n",
    "print(funct1('ashohik'))"
   ]
  },
  {
   "cell_type": "markdown",
   "metadata": {},
   "source": [
    "Write a Python program to count the occurrences of each word in a given sentence."
   ]
  },
  {
   "cell_type": "code",
   "execution_count": 90,
   "metadata": {},
   "outputs": [
    {
     "name": "stdout",
     "output_type": "stream",
     "text": [
      "{'j': 1, 's': 4, 'b': 1, 'k': 3, 'a': 3, 'l': 2, 'd': 1, 'n': 2, 'f': 1}\n"
     ]
    }
   ],
   "source": [
    "def funct1(str9):  \n",
    "    a={}\n",
    "    for i in str9:\n",
    "        if i in a.keys():\n",
    "            a[i]+=1\n",
    "        else:\n",
    "            a[i]=1\n",
    "    return a\n",
    "print(funct1('jsbskaldnaslksafkn'))"
   ]
  },
  {
   "cell_type": "markdown",
   "metadata": {},
   "source": [
    "Write a Python program that accepts a comma separated sequence of words as input and prints the unique words in sorted form (alphanumerically)."
   ]
  },
  {
   "cell_type": "code",
   "execution_count": 91,
   "metadata": {},
   "outputs": [
    {
     "name": "stdout",
     "output_type": "stream",
     "text": [
      "('ashok', 'ASHOK')\n"
     ]
    }
   ],
   "source": [
    "def inputfunct(str1):\n",
    "    lower=str1.lower()\n",
    "    upper=str1.upper()\n",
    "    return lower,upper\n",
    "print(inputfunct('ashok'))\n",
    "    "
   ]
  },
  {
   "cell_type": "markdown",
   "metadata": {},
   "source": [
    "Write a Python program that accepts a comma separated sequence of words as input and prints the unique words in sorted form (alphanumerically)."
   ]
  },
  {
   "cell_type": "code",
   "execution_count": 93,
   "metadata": {},
   "outputs": [
    {
     "name": "stdout",
     "output_type": "stream",
     "text": [
      "input comma seperated wordsashok,ashok,123,123,jh\n",
      "123,123,ashok,ashok,jh\n"
     ]
    }
   ],
   "source": [
    "items=input('input comma seperated words')\n",
    "a=[word for word in items.split(',')]\n",
    "print(\",\".join(sorted(a)))"
   ]
  },
  {
   "cell_type": "code",
   "execution_count": 94,
   "metadata": {},
   "outputs": [
    {
     "name": "stdout",
     "output_type": "stream",
     "text": [
      "Input comma separated sequence of wordsskjbjn jnfd,mf, flksf,\n",
      ", flksf,mf,skjbjn jnfd\n"
     ]
    }
   ],
   "source": [
    "items = input(\"Input comma separated sequence of words\")\n",
    "words = [word for word in items.split(\",\")]\n",
    "print(\",\".join(sorted(list(set(words)))))"
   ]
  },
  {
   "cell_type": "markdown",
   "metadata": {},
   "source": [
    " Write a Python function to get a string made of 4 copies of the last two characters of a specified string (length must be at least 2)"
   ]
  },
  {
   "cell_type": "code",
   "execution_count": 95,
   "metadata": {},
   "outputs": [
    {
     "name": "stdout",
     "output_type": "stream",
     "text": [
      "okokokok\n",
      "fkfkfkfk\n",
      "sd\n"
     ]
    }
   ],
   "source": [
    "def funct(str1):\n",
    "    if len(str1)<=2:\n",
    "        return str1\n",
    "    else:\n",
    "        a=str1[-2:]\n",
    "        str1=a*4\n",
    "    return str1\n",
    "print(funct('ashok'))\n",
    "print(funct('skjnsnfk'))\n",
    "print(funct('sd'))"
   ]
  },
  {
   "cell_type": "markdown",
   "metadata": {},
   "source": [
    "Write a Python function to get a string made of its first three characters of a specified string. If the length of the string is less than 3 then return the original string. Go to the editor\n",
    "Sample function and result : "
   ]
  },
  {
   "cell_type": "code",
   "execution_count": 96,
   "metadata": {},
   "outputs": [
    {
     "name": "stdout",
     "output_type": "stream",
     "text": [
      "as\n",
      "ash\n"
     ]
    }
   ],
   "source": [
    "def funct(str1):\n",
    "    if len(str1)<=3:\n",
    "        return str1\n",
    "    else:\n",
    "        str1=str1[:3]\n",
    "    return str1\n",
    "print(funct('as'))\n",
    "print(funct('ashok'))"
   ]
  },
  {
   "cell_type": "markdown",
   "metadata": {},
   "source": [
    "Write a Python program to get the last part of a string before a specified character."
   ]
  },
  {
   "cell_type": "code",
   "execution_count": 97,
   "metadata": {},
   "outputs": [
    {
     "name": "stdout",
     "output_type": "stream",
     "text": [
      "www.ashok/skj\n"
     ]
    }
   ],
   "source": [
    "def funct(sre1):\n",
    "    sre1=sre1.rsplit('/',1)[0]\n",
    "    return sre1\n",
    "print(funct('www.ashok/skj/kj'))"
   ]
  },
  {
   "cell_type": "markdown",
   "metadata": {},
   "source": [
    "Write a Python function to reverses a string if it's length is a multiple of 4"
   ]
  },
  {
   "cell_type": "code",
   "execution_count": 98,
   "metadata": {},
   "outputs": [
    {
     "name": "stdout",
     "output_type": "stream",
     "text": [
      "hsakohsa\n",
      "ash\n"
     ]
    }
   ],
   "source": [
    "def funct(str1):\n",
    "    if len(str1)%4==0:\n",
    "        str1=''.join(reversed(str1))\n",
    "    else:\n",
    "        return str1\n",
    "    return str1\n",
    "print(funct('ashokash'))\n",
    "print(funct('ash'))"
   ]
  },
  {
   "cell_type": "markdown",
   "metadata": {},
   "source": [
    "Write a Python function to convert a given string to all uppercase if it contains at least 2 uppercase characters in the first 4 characters."
   ]
  },
  {
   "cell_type": "code",
   "execution_count": 99,
   "metadata": {},
   "outputs": [
    {
     "name": "stdout",
     "output_type": "stream",
     "text": [
      "SJUKSNMN\n",
      "dfdggdh\n"
     ]
    }
   ],
   "source": [
    "def funct(str1):\n",
    "    up=0\n",
    "    for letter in str1[:4]:\n",
    "        if letter.upper()==letter:\n",
    "            up+=1\n",
    "    if up>=2:\n",
    "        return str1.upper()\n",
    "    return str1\n",
    "print(funct('sJUksnmn'))\n",
    "print(funct('dfdggdh'))\n",
    "    \n",
    "            \n",
    "        "
   ]
  },
  {
   "cell_type": "markdown",
   "metadata": {},
   "source": [
    "Write a Python program to sort a string lexicographically."
   ]
  },
  {
   "cell_type": "code",
   "execution_count": 100,
   "metadata": {},
   "outputs": [
    {
     "name": "stdout",
     "output_type": "stream",
     "text": [
      "['a', 'a', 'b', 'b', 'f', 'j', 'j', 'j', 'k', 'k', 's']\n",
      "['a', 'h', 'i', 'k', 'k', 'r', 't']\n"
     ]
    }
   ],
   "source": [
    "def lexogical(str1):\n",
    "    return sorted(str1)\n",
    "print(lexogical('kjbfbajajsk'))\n",
    "print(lexogical('karthik'))"
   ]
  },
  {
   "cell_type": "markdown",
   "metadata": {},
   "source": [
    "Write a Python program to remove a newline in Python."
   ]
  },
  {
   "cell_type": "code",
   "execution_count": 101,
   "metadata": {},
   "outputs": [
    {
     "name": "stdout",
     "output_type": "stream",
     "text": [
      "Python Exercises\n",
      "\n",
      "Python Exercises\n"
     ]
    }
   ],
   "source": [
    "str1='Python Exercises\\n'\n",
    "print(str1)\n",
    "print(str1.rstrip())"
   ]
  },
  {
   "cell_type": "markdown",
   "metadata": {},
   "source": [
    "Write a Python program to check whether a string starts with specified characters."
   ]
  },
  {
   "cell_type": "code",
   "execution_count": 102,
   "metadata": {},
   "outputs": [
    {
     "data": {
      "text/plain": [
       "True"
      ]
     },
     "execution_count": 102,
     "metadata": {},
     "output_type": "execute_result"
    }
   ],
   "source": [
    "str1='ashokkjshfnjn'\n",
    "str1.startswith('ash')"
   ]
  },
  {
   "cell_type": "markdown",
   "metadata": {},
   "source": [
    "Write a Python program to display formatted text (width=50) as output."
   ]
  },
  {
   "cell_type": "code",
   "execution_count": 103,
   "metadata": {},
   "outputs": [],
   "source": [
    "import textwrap"
   ]
  },
  {
   "cell_type": "code",
   "execution_count": 104,
   "metadata": {},
   "outputs": [],
   "source": [
    "sample_text = '''\n",
    "  Python is a widely used high-level, general-purpose, interpreted,\n",
    "  dynamic programming language. Its design philosophy emphasizes\n",
    "  code readability, and its syntax allows programmers to express\n",
    "  concepts in fewer lines of code than possible in languages such\n",
    "  as C++ or Java.\n",
    "  '''"
   ]
  },
  {
   "cell_type": "code",
   "execution_count": 105,
   "metadata": {},
   "outputs": [
    {
     "data": {
      "text/plain": [
       "'\\n  Python is a widely used high-level, general-purpose, interpreted,\\n  dynamic programming language. Its design philosophy emphasizes\\n  code readability, and its syntax allows programmers to express\\n  concepts in fewer lines of code than possible in languages such\\n  as C++ or Java.\\n  '"
      ]
     },
     "execution_count": 105,
     "metadata": {},
     "output_type": "execute_result"
    }
   ],
   "source": [
    "sample_text"
   ]
  },
  {
   "cell_type": "code",
   "execution_count": 106,
   "metadata": {},
   "outputs": [
    {
     "name": "stdout",
     "output_type": "stream",
     "text": [
      "   Python is a widely used high-level, general-\n",
      "purpose, interpreted,   dynamic programming\n",
      "language. Its design philosophy emphasizes   code\n",
      "readability, and its syntax allows programmers to\n",
      "express   concepts in fewer lines of code than\n",
      "possible in languages such   as C++ or Java.\n"
     ]
    }
   ],
   "source": [
    "print(textwrap.fill(sample_text,width=50))"
   ]
  },
  {
   "cell_type": "markdown",
   "metadata": {},
   "source": [
    "Write a Python program to remove existing indentation from all of the lines in a given text."
   ]
  },
  {
   "cell_type": "code",
   "execution_count": 107,
   "metadata": {},
   "outputs": [
    {
     "name": "stdout",
     "output_type": "stream",
     "text": [
      "\n",
      "Python is a widely used high-level, general-purpose, interpreted,\n",
      "dynamic programming language. Its design philosophy emphasizes\n",
      "code readability, and its syntax allows programmers to express\n",
      "concepts in fewer lines of code than possible in languages such\n",
      "as C++ or Java.\n",
      "\n"
     ]
    }
   ],
   "source": [
    "text_wrap_without_indent=print(textwrap.dedent(sample_text))\n",
    "text_wrap_without_indent"
   ]
  },
  {
   "cell_type": "markdown",
   "metadata": {},
   "source": [
    "Write a Python program to add a prefix text to all of the lines in a string."
   ]
  },
  {
   "cell_type": "code",
   "execution_count": 108,
   "metadata": {},
   "outputs": [
    {
     "name": "stdout",
     "output_type": "stream",
     "text": [
      "\n",
      ">  Python is a widely used high-level, general-\n",
      "> purpose, interpreted, dynamic programming\n",
      "> language. Its design philosophy emphasizes code\n",
      "> readability, and its syntax allows programmers to\n",
      "> express concepts in fewer lines of code than\n",
      "> possible in languages such as C++ or Java.\n",
      "\n"
     ]
    }
   ],
   "source": [
    "import textwrap\n",
    "sample_text ='''\n",
    "    Python is a widely used high-level, general-purpose, interpreted,\n",
    "    dynamic programming language. Its design philosophy emphasizes\n",
    "    code readability, and its syntax allows programmers to express\n",
    "    concepts in fewer lines of code than possible in languages such\n",
    "    as C++ or Java.\n",
    "    '''\n",
    "text_without_Indentation = textwrap.dedent(sample_text)\n",
    "wrapped = textwrap.fill(text_without_Indentation, width=50)\n",
    "#wrapped += '\\n\\nSecond paragraph after a blank line.'\n",
    "final_result = textwrap.indent(wrapped, '> ')\n",
    "print()\n",
    "print(final_result)\n",
    "print()"
   ]
  },
  {
   "cell_type": "markdown",
   "metadata": {},
   "source": [
    "Write a Python program to set the indentation of the first line."
   ]
  },
  {
   "cell_type": "code",
   "execution_count": 109,
   "metadata": {},
   "outputs": [
    {
     "name": "stdout",
     "output_type": "stream",
     "text": [
      "\n",
      "Python is a widely used high-level, general-purpose, interpreted, dynamic\n",
      "    programming language. Its design philosophy emphasizes code readability, and\n",
      "    its syntax allows programmers to express concepts in fewer lines of code\n",
      "    than possible in languages such as C++ or Java.\n",
      "\n"
     ]
    }
   ],
   "source": [
    "import textwrap\n",
    "sample_text ='''\n",
    "Python is a widely used high-level, general-purpose, interpreted, dynamic\n",
    "programming language. Its design philosophy emphasizes code readability,\n",
    "and its syntax allows programmers to express concepts in fewer lines of\n",
    "code than possible in languages such as C++ or Java.\n",
    "    '''\n",
    "\n",
    "text1 =  textwrap.dedent(sample_text).strip()\n",
    "print()\n",
    "print(textwrap.fill(text1,\n",
    "                    initial_indent='',\n",
    "                    subsequent_indent=' ' * 4,\n",
    "                    width=80,\n",
    "                    ))\n",
    "print()"
   ]
  },
  {
   "cell_type": "markdown",
   "metadata": {},
   "source": [
    "Write a Python program to print the following floating numbers upto 2 decimal places."
   ]
  },
  {
   "cell_type": "code",
   "execution_count": 110,
   "metadata": {},
   "outputs": [
    {
     "name": "stdout",
     "output_type": "stream",
     "text": [
      "original x : 12.65565\n",
      "formatted :12.66\n",
      "original y : 2.65151\n",
      "2.65\n"
     ]
    }
   ],
   "source": [
    "x=12.65565\n",
    "y=2.65151\n",
    "print('original x :',x)\n",
    "print('formatted :'+\"{:.2f}\".format(x));\n",
    "print('original y :',y)\n",
    "print(\"{:.2f}\".format(y))"
   ]
  },
  {
   "cell_type": "markdown",
   "metadata": {},
   "source": [
    "Write a Python program to print the following floating numbers upto 2 decimal places with a sign"
   ]
  },
  {
   "cell_type": "code",
   "execution_count": 111,
   "metadata": {},
   "outputs": [
    {
     "name": "stdout",
     "output_type": "stream",
     "text": [
      "+12.64\n",
      "-2.65\n"
     ]
    }
   ],
   "source": [
    "x=12.6421\n",
    "y=-2.65454\n",
    "print(\"{:+.2f}\".format(x))\n",
    "print(\"{:+.2f}\".format(y))"
   ]
  },
  {
   "cell_type": "markdown",
   "metadata": {},
   "source": [
    "Write a Python program to print the following floating numbers with no decimal places."
   ]
  },
  {
   "cell_type": "code",
   "execution_count": 112,
   "metadata": {},
   "outputs": [
    {
     "name": "stdout",
     "output_type": "stream",
     "text": [
      "+4\n",
      "+3\n"
     ]
    }
   ],
   "source": [
    "x=3.65454\n",
    "y=2.999999\n",
    "print(\"{:+.0f}\".format(x))\n",
    "print(\"{:+.0f}\".format(y))"
   ]
  },
  {
   "cell_type": "markdown",
   "metadata": {},
   "source": [
    "left pad"
   ]
  },
  {
   "cell_type": "code",
   "execution_count": 113,
   "metadata": {},
   "outputs": [
    {
     "name": "stdout",
     "output_type": "stream",
     "text": [
      "***3212\n"
     ]
    }
   ],
   "source": [
    "x=3212\n",
    "print(\"{:*>7d}\".format(x))"
   ]
  },
  {
   "cell_type": "markdown",
   "metadata": {},
   "source": [
    "right pad"
   ]
  },
  {
   "cell_type": "code",
   "execution_count": 114,
   "metadata": {},
   "outputs": [
    {
     "name": "stdout",
     "output_type": "stream",
     "text": [
      "3212***\n"
     ]
    }
   ],
   "source": [
    "x=3212\n",
    "print(\"{:*<7d}\".format(x))"
   ]
  },
  {
   "cell_type": "markdown",
   "metadata": {},
   "source": [
    "comma seperated"
   ]
  },
  {
   "cell_type": "code",
   "execution_count": 115,
   "metadata": {},
   "outputs": [
    {
     "name": "stdout",
     "output_type": "stream",
     "text": [
      "3,000,000,000\n"
     ]
    }
   ],
   "source": [
    "x=3000000000\n",
    "print(\"{:,}\".format(x))"
   ]
  },
  {
   "cell_type": "markdown",
   "metadata": {},
   "source": [
    "Write a Python program to format a number with a percentage."
   ]
  },
  {
   "cell_type": "code",
   "execution_count": 116,
   "metadata": {},
   "outputs": [
    {
     "name": "stdout",
     "output_type": "stream",
     "text": [
      "65.00%\n"
     ]
    }
   ],
   "source": [
    "x=.65\n",
    "print(\"{:.2%}\".format(x))"
   ]
  },
  {
   "cell_type": "markdown",
   "metadata": {},
   "source": [
    "Write a Python program to display a number in left, right and center aligned of width 10."
   ]
  },
  {
   "cell_type": "code",
   "execution_count": 117,
   "metadata": {},
   "outputs": [
    {
     "name": "stdout",
     "output_type": "stream",
     "text": [
      "        22\n",
      "22        \n",
      "    22    \n"
     ]
    }
   ],
   "source": [
    "x=22\n",
    "print(\"{:10d}\".format(x))\n",
    "print(\"{:<10d}\".format(x))\n",
    "print(\"{:^10d}\".format(x))"
   ]
  },
  {
   "cell_type": "markdown",
   "metadata": {},
   "source": [
    "Write a Python program to count occurrences of a substring in a string."
   ]
  },
  {
   "cell_type": "code",
   "execution_count": 118,
   "metadata": {},
   "outputs": [
    {
     "data": {
      "text/plain": [
       "2"
      ]
     },
     "execution_count": 118,
     "metadata": {},
     "output_type": "execute_result"
    }
   ],
   "source": [
    "str1=\"ashok fox lion tiger ashok\"\n",
    "str1.count('ashok')"
   ]
  },
  {
   "cell_type": "markdown",
   "metadata": {},
   "source": [
    "Write a Python program to reverse a string"
   ]
  },
  {
   "cell_type": "code",
   "execution_count": 119,
   "metadata": {},
   "outputs": [
    {
     "name": "stdout",
     "output_type": "stream",
     "text": [
      "fdbasja\n"
     ]
    }
   ],
   "source": [
    "str1=\"ajsabdf\"\n",
    "rev=''.join(reversed(str1))\n",
    "print(rev)"
   ]
  },
  {
   "cell_type": "code",
   "execution_count": 120,
   "metadata": {},
   "outputs": [
    {
     "name": "stdout",
     "output_type": "stream",
     "text": [
      "kohsa\n"
     ]
    }
   ],
   "source": [
    "str1='ashok'\n",
    "rev=str1[::-1]\n",
    "print(rev)"
   ]
  },
  {
   "cell_type": "markdown",
   "metadata": {},
   "source": [
    "Write a Python program to reverse words in a string."
   ]
  },
  {
   "cell_type": "code",
   "execution_count": 121,
   "metadata": {},
   "outputs": [
    {
     "name": "stdout",
     "output_type": "stream",
     "text": [
      "fbefuy lnrgjiro fsnla fnjio widjks\n"
     ]
    }
   ],
   "source": [
    "def funct(str1):\n",
    "    for i in str1.split():\n",
    "        return (''.join(reversed(str1)))\n",
    "print(funct('skjdiw oijnf alnsf orijgrnl yufebf'))"
   ]
  },
  {
   "cell_type": "markdown",
   "metadata": {},
   "source": [
    "Write a Python program to print the index of the character in a string."
   ]
  },
  {
   "cell_type": "code",
   "execution_count": 127,
   "metadata": {},
   "outputs": [
    {
     "name": "stdout",
     "output_type": "stream",
     "text": [
      "j 0\n",
      "a 1\n",
      "v 2\n",
      "a 3\n",
      "s 4\n",
      "c 5\n",
      "r 6\n",
      "i 7\n",
      "p 8\n",
      "t 9\n"
     ]
    }
   ],
   "source": [
    "str1=\"javascript\"\n",
    "for int1,char in enumerate(str1):\n",
    "    print(char,int1)"
   ]
  },
  {
   "cell_type": "markdown",
   "metadata": {},
   "source": [
    " Write a Python program to check if a string contains all letters of the alphabet."
   ]
  },
  {
   "cell_type": "code",
   "execution_count": 128,
   "metadata": {},
   "outputs": [
    {
     "name": "stdout",
     "output_type": "stream",
     "text": [
      "False\n",
      "True\n"
     ]
    }
   ],
   "source": [
    "import string\n",
    "alphabet=set(string.ascii_lowercase)\n",
    "input1='kjsad sdfis dksd feo efoifne'\n",
    "print(set(input1.lower())>=alphabet)\n",
    "input2='The quick brown fox jumps over the lazy dog'\n",
    "print(set(input2.lower())>=alphabet)"
   ]
  },
  {
   "cell_type": "markdown",
   "metadata": {},
   "source": [
    "Write a Python program to swap comma and dot in a string."
   ]
  },
  {
   "cell_type": "code",
   "execution_count": 129,
   "metadata": {},
   "outputs": [
    {
     "name": "stdout",
     "output_type": "stream",
     "text": [
      "djlnsdf.sdkjfns.sdkjf.ksdj\n",
      "djlnsdf.sdkjfns.sdkjf.ksdj\n"
     ]
    }
   ],
   "source": [
    "str1=\"djlnsdf,sdkjfns,sdkjf,ksdj\"\n",
    "maketrans=str1.maketrans\n",
    "print(str1.translate(maketrans(',','.')))\n",
    "print(str1.replace(',','.'))\n"
   ]
  },
  {
   "cell_type": "markdown",
   "metadata": {},
   "source": [
    "Write a Python program to count and display the vowels of a given text."
   ]
  },
  {
   "cell_type": "code",
   "execution_count": 4,
   "metadata": {},
   "outputs": [
    {
     "data": {
      "text/plain": [
       "7"
      ]
     },
     "execution_count": 4,
     "metadata": {},
     "output_type": "execute_result"
    }
   ],
   "source": [
    "def funct(str1):\n",
    "    vowels='aeiouAEIOU'\n",
    "    count=0\n",
    "    for i in str1:\n",
    "        if i in vowels:\n",
    "            count+=1\n",
    "            #print(i[0:3],end=' ')\n",
    "    #print(count)\n",
    "    return count\n",
    "funct('sjdf sefesdkjf akw seiuolksd')"
   ]
  },
  {
   "cell_type": "code",
   "execution_count": 131,
   "metadata": {},
   "outputs": [
    {
     "name": "stdout",
     "output_type": "stream",
     "text": [
      "ab\n",
      "ab\n",
      "ca\n",
      "None\n"
     ]
    }
   ],
   "source": [
    "def first_repeated_word(str1):\n",
    "    temp = set()\n",
    "    for word in str1.split():\n",
    "        if word in temp:\n",
    "            return word\n",
    "        else:\n",
    "            temp.add(word)\n",
    "    return 'None'\n",
    "print(first_repeated_word(\"ab ca bc ab\"))\n",
    "print(first_repeated_word(\"ab ca bc ab ca ab bc\"))\n",
    "print(first_repeated_word(\"ab ca bc ca ab bc\"))\n",
    "print(first_repeated_word(\"ab ca bc\"))"
   ]
  },
  {
   "cell_type": "markdown",
   "metadata": {},
   "source": [
    "Write a Python program to capitalize first and last letters of each word of a given string."
   ]
  },
  {
   "cell_type": "code",
   "execution_count": 132,
   "metadata": {},
   "outputs": [
    {
     "name": "stdout",
     "output_type": "stream",
     "text": [
      " KsjF SdkF SfkjsF\n"
     ]
    }
   ],
   "source": [
    "def funct(str1):\n",
    "    str1=result=str1.title()\n",
    "    result=' '\n",
    "    for i in str1.split():\n",
    "        result+=i[:-1]+i[-1].upper()+' '\n",
    "    return result[:-1]\n",
    "print(funct('ksjf sdkf sfkjsf'))"
   ]
  },
  {
   "cell_type": "markdown",
   "metadata": {},
   "source": [
    "Write a Python program to remove duplicate characters of a given string"
   ]
  },
  {
   "cell_type": "code",
   "execution_count": 133,
   "metadata": {},
   "outputs": [
    {
     "name": "stdout",
     "output_type": "stream",
     "text": [
      "ashok djfng123\n"
     ]
    }
   ],
   "source": [
    "from collections import OrderedDict\n",
    "def remove_repeated(str1):\n",
    "    return ''.join(OrderedDict.fromkeys(str1))\n",
    "print(remove_repeated('ashok ashok dkjf kjfdng 123 123'))"
   ]
  },
  {
   "cell_type": "markdown",
   "metadata": {},
   "source": [
    "Write a Python program to compute sum of digits of a given string."
   ]
  },
  {
   "cell_type": "code",
   "execution_count": 134,
   "metadata": {},
   "outputs": [
    {
     "name": "stdout",
     "output_type": "stream",
     "text": [
      "27\n"
     ]
    }
   ],
   "source": [
    "import functools\n",
    "def funct(str1):\n",
    "    a=[]\n",
    "    for i in str1:\n",
    "        if i.isdigit():\n",
    "            a.append(int(i))\n",
    "    return(functools.reduce(lambda x,y : x+y,a))\n",
    "print(funct('skjf6 dgd6f5 4gd1 5g'))"
   ]
  },
  {
   "cell_type": "code",
   "execution_count": 135,
   "metadata": {},
   "outputs": [
    {
     "name": "stdout",
     "output_type": "stream",
     "text": [
      "120\n"
     ]
    }
   ],
   "source": [
    "a=[32,65,12,5,6]\n",
    "kjs=functools.reduce(lambda x,y:x+y,a)\n",
    "print(kjs)"
   ]
  },
  {
   "cell_type": "code",
   "execution_count": 136,
   "metadata": {},
   "outputs": [
    {
     "name": "stdout",
     "output_type": "stream",
     "text": [
      "enter the stringkjnd87 f5435skhs78\n",
      "47\n"
     ]
    }
   ],
   "source": [
    "a=input('enter the string')\n",
    "b=[]\n",
    "for i in a:\n",
    "    if i.isdigit():\n",
    "        b.append(int(i))\n",
    "print(functools.reduce(lambda x,y : x+y,b))\n"
   ]
  },
  {
   "cell_type": "code",
   "execution_count": 138,
   "metadata": {},
   "outputs": [
    {
     "name": "stdout",
     "output_type": "stream",
     "text": [
      "enter value for x3\n",
      "enter value for y5\n",
      "[[0 0 0 0 0]\n",
      " [0 1 2 3 0]\n",
      " [0 2 4 0 0]]\n"
     ]
    }
   ],
   "source": [
    "import numpy as np\n",
    "row=int(input('enter value for x'))\n",
    "col=int(input('enter value for y'))\n",
    "D=[[0 for col in range(col)] for row in range(row)]\n",
    "for row in range(row):\n",
    "    for col in range(col):\n",
    "        D[row][col]=row*col\n",
    "print(np.matrix(D))"
   ]
  },
  {
   "cell_type": "code",
   "execution_count": 140,
   "metadata": {},
   "outputs": [
    {
     "name": "stdout",
     "output_type": "stream",
     "text": [
      "Input number of rows: 3\n",
      "Input number of columns: 5\n",
      "[[0 0 0 0 0]\n",
      " [0 1 2 3 4]\n",
      " [0 2 4 6 8]]\n"
     ]
    }
   ],
   "source": [
    "row_count= int(input(\"Input number of rows: \"))\n",
    "col_count= int(input(\"Input number of columns: \"))\n",
    "multi_list = [[0 for col in range(col_count)] for row in range(row_count)]\n",
    "\n",
    "for row in range(row_count):\n",
    "    for col in range(col_count):\n",
    "        multi_list[row][col]= row*col\n",
    "\n",
    "print(np.matrix(multi_list))"
   ]
  },
  {
   "cell_type": "code",
   "execution_count": null,
   "metadata": {},
   "outputs": [],
   "source": [
    "2+3"
   ]
  },
  {
   "cell_type": "code",
   "execution_count": null,
   "metadata": {},
   "outputs": [],
   "source": []
  }
 ],
 "metadata": {
  "kernelspec": {
   "display_name": "Python 3",
   "language": "python",
   "name": "python3"
  },
  "language_info": {
   "codemirror_mode": {
    "name": "ipython",
    "version": 3
   },
   "file_extension": ".py",
   "mimetype": "text/x-python",
   "name": "python",
   "nbconvert_exporter": "python",
   "pygments_lexer": "ipython3",
   "version": "3.7.1"
  }
 },
 "nbformat": 4,
 "nbformat_minor": 2
}
