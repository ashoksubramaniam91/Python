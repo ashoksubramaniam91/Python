{
 "cells": [
  {
   "cell_type": "markdown",
   "metadata": {},
   "source": [
    "Write a Python program convert a string date to the timestamp."
   ]
  },
  {
   "cell_type": "code",
   "execution_count": 1,
   "metadata": {},
   "outputs": [
    {
     "name": "stdout",
     "output_type": "stream",
     "text": [
      "\n",
      "1475260200.0\n",
      "\n"
     ]
    }
   ],
   "source": [
    "import time\n",
    "import datetime\n",
    "s = \"01/10/2016\"\n",
    "print()\n",
    "print(time.mktime(datetime.datetime.strptime(s, \"%d/%m/%Y\").timetuple()))\n",
    "print()"
   ]
  },
  {
   "cell_type": "markdown",
   "metadata": {},
   "source": [
    "Write a Python program to calculate a number of days between two dates."
   ]
  },
  {
   "cell_type": "code",
   "execution_count": 2,
   "metadata": {},
   "outputs": [
    {
     "name": "stdout",
     "output_type": "stream",
     "text": [
      "\n",
      "307\n",
      "-627\n",
      "\n"
     ]
    }
   ],
   "source": [
    "import datetime\n",
    "from datetime import date\n",
    "def differ_days(date1, date2):\n",
    "\n",
    "    a = date1\n",
    "    b = date2\n",
    "    return (a-b).days\n",
    "print()\n",
    "print(differ_days((date(2016,10,12)), date(2015,12,10)))\n",
    "print(differ_days((date(2016,3,23)), date(2017,12,10)))\n",
    "print()"
   ]
  },
  {
   "cell_type": "markdown",
   "metadata": {},
   "source": [
    "Write a Python program to calculate number of days between two datetimes."
   ]
  },
  {
   "cell_type": "code",
   "execution_count": 3,
   "metadata": {},
   "outputs": [
    {
     "name": "stdout",
     "output_type": "stream",
     "text": [
      "\n",
      "307\n",
      "306\n",
      "\n"
     ]
    }
   ],
   "source": [
    "import datetime\n",
    "from datetime import datetime\n",
    "\n",
    "def differ_days(date1, date2):\n",
    "    a = date1\n",
    "    b = date2\n",
    "    return (a-b).days\n",
    "print()\n",
    "print(differ_days((datetime(2016,10,12,0,0,0)), datetime(2015,12,10,0,0,0)))\n",
    "print(differ_days((datetime(2016,10,12,0,0,0)), datetime(2015,12,10,23,59,59)))\n",
    "print()"
   ]
  },
  {
   "cell_type": "markdown",
   "metadata": {},
   "source": [
    "Write a Python program to display the date and time in a human-friendly string."
   ]
  },
  {
   "cell_type": "code",
   "execution_count": 4,
   "metadata": {},
   "outputs": [
    {
     "name": "stdout",
     "output_type": "stream",
     "text": [
      "\n",
      "Sun May 26 04:24:47 2019\n",
      "\n"
     ]
    }
   ],
   "source": [
    "import time\n",
    "print()\n",
    "print(time.ctime())\n",
    "print()"
   ]
  },
  {
   "cell_type": "markdown",
   "metadata": {},
   "source": [
    "Write a Python program to convert a date to Unix timestamp."
   ]
  },
  {
   "cell_type": "code",
   "execution_count": 5,
   "metadata": {},
   "outputs": [
    {
     "name": "stdout",
     "output_type": "stream",
     "text": [
      "\n",
      "Unix Timestamp:  1456422780.0\n",
      "\n"
     ]
    }
   ],
   "source": [
    "import datetime\n",
    "import time\n",
    "dt = datetime.datetime(2016, 2, 25, 23, 23)\n",
    "print()\n",
    "print(\"Unix Timestamp: \",(time.mktime(dt.timetuple())))\n",
    "print()"
   ]
  },
  {
   "cell_type": "markdown",
   "metadata": {},
   "source": [
    "Write a Python program to calculate two date difference in seconds."
   ]
  },
  {
   "cell_type": "code",
   "execution_count": 14,
   "metadata": {},
   "outputs": [
    {
     "name": "stdout",
     "output_type": "stream",
     "text": [
      "\n",
      "44076442 seconds\n",
      "\n"
     ]
    }
   ],
   "source": [
    "from datetime import datetime, time\n",
    "def date_diff_in_Seconds(dt2, dt1):\n",
    "    timedelta = dt2 - dt1\n",
    "    return timedelta.days * 24 * 3600 + timedelta.seconds\n",
    "#Specified date\n",
    "date1 = datetime.strptime('2018-01-01 01:00:00', '%Y-%m-%d %H:%M:%S')\n",
    "#Current date\n",
    "date2 = datetime.now()\n",
    "print(\"\\n%d seconds\" %(date_diff_in_Seconds(date2, date1)))\n",
    "print()"
   ]
  },
  {
   "cell_type": "markdown",
   "metadata": {},
   "source": [
    "Write a Python program to convert two date difference in seconds."
   ]
  },
  {
   "cell_type": "code",
   "execution_count": 15,
   "metadata": {},
   "outputs": [
    {
     "name": "stdout",
     "output_type": "stream",
     "text": [
      "\n",
      "1606 days, 3 hours, 27 minutes, 53 seconds\n",
      "\n"
     ]
    }
   ],
   "source": [
    "from datetime import datetime, time\n",
    "\n",
    "def date_diff_in_seconds(dt2, dt1):\n",
    "  timedelta = dt2 - dt1\n",
    "  return timedelta.days * 24 * 3600 + timedelta.seconds\n",
    "\n",
    "def dhms_from_seconds(seconds):\n",
    "\tminutes, seconds = divmod(seconds, 60)\n",
    "\thours, minutes = divmod(minutes, 60)\n",
    "\tdays, hours = divmod(hours, 24)\n",
    "\treturn (days, hours, minutes, seconds)\n",
    "\n",
    "#Specified date\n",
    "date1 = datetime.strptime('2015-01-01 01:00:00', '%Y-%m-%d %H:%M:%S')\n",
    "\n",
    "#Current date\n",
    "date2 = datetime.now()\n",
    "\n",
    "print(\"\\n%d days, %d hours, %d minutes, %d seconds\" % dhms_from_seconds(date_diff_in_seconds(date2, date1)))\n",
    "print()"
   ]
  },
  {
   "cell_type": "markdown",
   "metadata": {},
   "source": [
    "Write a Python program to calculate an age in year."
   ]
  },
  {
   "cell_type": "code",
   "execution_count": 17,
   "metadata": {},
   "outputs": [
    {
     "name": "stdout",
     "output_type": "stream",
     "text": [
      "\n",
      "12\n",
      "28\n",
      "\n"
     ]
    }
   ],
   "source": [
    "from datetime import date\n",
    "\n",
    "def calculate_age(dtob):\n",
    "    today = date.today()\n",
    "    return today.year - dtob.year - ((today.month, today.day) < (dtob.month, dtob.day))\n",
    "print()\n",
    "print(calculate_age(date(2006,10,12)))\n",
    "print(calculate_age(date(1991,1,27)))\n",
    "print()"
   ]
  },
  {
   "cell_type": "markdown",
   "metadata": {},
   "source": [
    "Write a Python program to get the current date time information"
   ]
  },
  {
   "cell_type": "code",
   "execution_count": 18,
   "metadata": {},
   "outputs": [
    {
     "name": "stdout",
     "output_type": "stream",
     "text": [
      "\n",
      "Time in seconds since the epoch: 1558825159.1281245\n",
      "Current date and time:  2019-05-26 04:29:19.128124\n",
      "Alternate date and time:  19-05-26-04-29\n",
      "Current year:  2019\n",
      "Month of year:  May\n",
      "Week number of the year:  20\n",
      "Weekday of the week:  0\n",
      "Day of year:  146\n",
      "Day of the month :  26\n",
      "Day of week:  Sunday\n",
      "\n"
     ]
    }
   ],
   "source": [
    "import time\n",
    "import datetime\n",
    "\n",
    "print()\n",
    "print(\"Time in seconds since the epoch: %s\" %time.time())\n",
    "print(\"Current date and time: \" , datetime.datetime.now())\n",
    "print(\"Alternate date and time: \" ,datetime.datetime.now().strftime(\"%y-%m-%d-%H-%M\"))\n",
    "print(\"Current year: \", datetime.date.today().strftime(\"%Y\"))\n",
    "print(\"Month of year: \", datetime.date.today().strftime(\"%B\"))\n",
    "print(\"Week number of the year: \", datetime.date.today().strftime(\"%W\"))\n",
    "print(\"Weekday of the week: \", datetime.date.today().strftime(\"%w\"))\n",
    "print(\"Day of year: \", datetime.date.today().strftime(\"%j\"))\n",
    "print(\"Day of the month : \", datetime.date.today().strftime(\"%d\"))\n",
    "print(\"Day of week: \", datetime.date.today().strftime(\"%A\"))\n",
    "print()"
   ]
  },
  {
   "cell_type": "markdown",
   "metadata": {},
   "source": [
    "Write a python program to generate a date and time as a string."
   ]
  },
  {
   "cell_type": "code",
   "execution_count": 20,
   "metadata": {},
   "outputs": [
    {
     "name": "stdout",
     "output_type": "stream",
     "text": [
      "\n",
      "# In string: 2019-05-26 04:30:34 AM\n",
      "\n",
      "\n"
     ]
    }
   ],
   "source": [
    "import datetime\n",
    "# Current time\n",
    "now = datetime.datetime.now()\n",
    "# Make a note of the date and time in a string\n",
    "# Date and time in string : 2016-11-05 11:24:24 PM\n",
    "datestr = \"# In string: \" + now.strftime(\"%Y-%m-%d %H:%M:%S %p\") + \"\\n\"\n",
    "print()\n",
    "print(datestr)\n",
    "print()"
   ]
  },
  {
   "cell_type": "markdown",
   "metadata": {},
   "source": [
    "Write a Python program to display formatted text output of a month and start weeks on Sunday."
   ]
  },
  {
   "cell_type": "code",
   "execution_count": 21,
   "metadata": {},
   "outputs": [
    {
     "name": "stdout",
     "output_type": "stream",
     "text": [
      "First Month - 2022\n",
      "    January 2022\n",
      "Su Mo Tu We Th Fr Sa\n",
      "                   1\n",
      " 2  3  4  5  6  7  8\n",
      " 9 10 11 12 13 14 15\n",
      "16 17 18 19 20 21 22\n",
      "23 24 25 26 27 28 29\n",
      "30 31\n",
      "None\n"
     ]
    }
   ],
   "source": [
    "import calendar\n",
    "cal = calendar.TextCalendar(calendar.SUNDAY)\n",
    "print('First Month - 2022')\n",
    "print(cal.prmonth(2022, 1))"
   ]
  },
  {
   "cell_type": "markdown",
   "metadata": {},
   "source": [
    "Write a Python program to print a 3-column calendar for an entire year."
   ]
  },
  {
   "cell_type": "code",
   "execution_count": 24,
   "metadata": {},
   "outputs": [
    {
     "name": "stdout",
     "output_type": "stream",
     "text": [
      "                              2022\n",
      "\n",
      "      January               February               March\n",
      "Su Mo Tu We Th Fr Sa  Su Mo Tu We Th Fr Sa  Su Mo Tu We Th Fr Sa\n",
      "                   1         1  2  3  4  5         1  2  3  4  5\n",
      " 2  3  4  5  6  7  8   6  7  8  9 10 11 12   6  7  8  9 10 11 12\n",
      " 9 10 11 12 13 14 15  13 14 15 16 17 18 19  13 14 15 16 17 18 19\n",
      "16 17 18 19 20 21 22  20 21 22 23 24 25 26  20 21 22 23 24 25 26\n",
      "23 24 25 26 27 28 29  27 28                 27 28 29 30 31\n",
      "30 31\n",
      "\n",
      "       April                  May                   June\n",
      "Su Mo Tu We Th Fr Sa  Su Mo Tu We Th Fr Sa  Su Mo Tu We Th Fr Sa\n",
      "                1  2   1  2  3  4  5  6  7            1  2  3  4\n",
      " 3  4  5  6  7  8  9   8  9 10 11 12 13 14   5  6  7  8  9 10 11\n",
      "10 11 12 13 14 15 16  15 16 17 18 19 20 21  12 13 14 15 16 17 18\n",
      "17 18 19 20 21 22 23  22 23 24 25 26 27 28  19 20 21 22 23 24 25\n",
      "24 25 26 27 28 29 30  29 30 31              26 27 28 29 30\n",
      "\n",
      "        July                 August              September\n",
      "Su Mo Tu We Th Fr Sa  Su Mo Tu We Th Fr Sa  Su Mo Tu We Th Fr Sa\n",
      "                1  2      1  2  3  4  5  6               1  2  3\n",
      " 3  4  5  6  7  8  9   7  8  9 10 11 12 13   4  5  6  7  8  9 10\n",
      "10 11 12 13 14 15 16  14 15 16 17 18 19 20  11 12 13 14 15 16 17\n",
      "17 18 19 20 21 22 23  21 22 23 24 25 26 27  18 19 20 21 22 23 24\n",
      "24 25 26 27 28 29 30  28 29 30 31           25 26 27 28 29 30\n",
      "31\n",
      "\n",
      "      October               November              December\n",
      "Su Mo Tu We Th Fr Sa  Su Mo Tu We Th Fr Sa  Su Mo Tu We Th Fr Sa\n",
      "                   1         1  2  3  4  5               1  2  3\n",
      " 2  3  4  5  6  7  8   6  7  8  9 10 11 12   4  5  6  7  8  9 10\n",
      " 9 10 11 12 13 14 15  13 14 15 16 17 18 19  11 12 13 14 15 16 17\n",
      "16 17 18 19 20 21 22  20 21 22 23 24 25 26  18 19 20 21 22 23 24\n",
      "23 24 25 26 27 28 29  27 28 29 30           25 26 27 28 29 30 31\n",
      "30 31\n",
      "\n"
     ]
    }
   ],
   "source": [
    "import calendar\n",
    "cal = calendar.TextCalendar(calendar.SUNDAY)\n",
    "# year: 2022, column width: 2, lines per week: 1 \n",
    "# number of spaces between month columns: 1\n",
    "# 3: no. of months per column.\n",
    "print(cal.formatyear(2022, 2, 1, 1, 3))"
   ]
  },
  {
   "cell_type": "markdown",
   "metadata": {},
   "source": [
    "Write a Python program to get the current week."
   ]
  },
  {
   "cell_type": "code",
   "execution_count": 26,
   "metadata": {},
   "outputs": [
    {
     "name": "stdout",
     "output_type": "stream",
     "text": [
      "\n",
      "Year 2017, Week Number 41, Day of the Week 4\n",
      "\n"
     ]
    }
   ],
   "source": [
    "import datetime\n",
    "Jan1st = datetime.date(2017,10,12)\n",
    "year,week_num,day_of_week = Jan1st.isocalendar() # DOW = day of week\n",
    "print()\n",
    "print(\"Year %d, Week Number %d, Day of the Week %d\" %(year,week_num, day_of_week))\n",
    "print()"
   ]
  },
  {
   "cell_type": "markdown",
   "metadata": {},
   "source": [
    "Write a Python program to create a HTML calendar with data for a specific year and month."
   ]
  },
  {
   "cell_type": "code",
   "execution_count": 27,
   "metadata": {},
   "outputs": [
    {
     "name": "stdout",
     "output_type": "stream",
     "text": [
      "<table border=\"0\" cellpadding=\"0\" cellspacing=\"0\" class=\"month\">\n",
      "<tr><th colspan=\"7\" class=\"month\">December 2020</th></tr>\n",
      "<tr><th class=\"mon\">Mon</th><th class=\"tue\">Tue</th><th class=\"wed\">Wed</th><th class=\"thu\">Thu</th><th class=\"fri\">Fri</th><th class=\"sat\">Sat</th><th class=\"sun\">Sun</th></tr>\n",
      "<tr><td class=\"noday\">&nbsp;</td><td class=\"tue\">1</td><td class=\"wed\">2</td><td class=\"thu\">3</td><td class=\"fri\">4</td><td class=\"sat\">5</td><td class=\"sun\">6</td></tr>\n",
      "<tr><td class=\"mon\">7</td><td class=\"tue\">8</td><td class=\"wed\">9</td><td class=\"thu\">10</td><td class=\"fri\">11</td><td class=\"sat\">12</td><td class=\"sun\">13</td></tr>\n",
      "<tr><td class=\"mon\">14</td><td class=\"tue\">15</td><td class=\"wed\">16</td><td class=\"thu\">17</td><td class=\"fri\">18</td><td class=\"sat\">19</td><td class=\"sun\">20</td></tr>\n",
      "<tr><td class=\"mon\">21</td><td class=\"tue\">22</td><td class=\"wed\">23</td><td class=\"thu\">24</td><td class=\"fri\">25</td><td class=\"sat\">26</td><td class=\"sun\">27</td></tr>\n",
      "<tr><td class=\"mon\">28</td><td class=\"tue\">29</td><td class=\"wed\">30</td><td class=\"thu\">31</td><td class=\"noday\">&nbsp;</td><td class=\"noday\">&nbsp;</td><td class=\"noday\">&nbsp;</td></tr>\n",
      "</table>\n",
      "\n"
     ]
    }
   ],
   "source": [
    "import calendar\n",
    "htmlcal = calendar.HTMLCalendar(calendar.MONDAY)\n",
    "print(htmlcal.formatmonth(2020, 12))"
   ]
  },
  {
   "cell_type": "markdown",
   "metadata": {},
   "source": [
    "Write a Python program display a list of the dates for the 2nd Saturday of every month for a given year."
   ]
  },
  {
   "cell_type": "code",
   "execution_count": 28,
   "metadata": {},
   "outputs": [
    {
     "name": "stdout",
     "output_type": "stream",
     "text": [
      "Jan: 11\n",
      "Feb:  8\n",
      "Mar: 14\n",
      "Apr: 11\n",
      "May:  9\n",
      "Jun: 13\n",
      "Jul: 11\n",
      "Aug:  8\n",
      "Sep: 12\n",
      "Oct: 10\n",
      "Nov: 14\n",
      "Dec: 12\n"
     ]
    }
   ],
   "source": [
    "import calendar\n",
    "# Show every month\n",
    "for month in range(1, 13):\n",
    "    cal = calendar.monthcalendar(2020, month)\n",
    "    first_week  = cal[0]\n",
    "    second_week = cal[1]\n",
    "    third_week  = cal[2]\n",
    "\n",
    "    # If a Saturday presents in the first week, the second Saturday\n",
    "    # is in the second week.  Otherwise, the second Saturday must \n",
    "    # be in the third week.\n",
    "    \n",
    "    if first_week[calendar.SATURDAY]:\n",
    "        holi_day = second_week[calendar.SATURDAY]\n",
    "    else:\n",
    "        holi_day = third_week[calendar.SATURDAY]\n",
    "\n",
    "    print('%3s: %2s' % (calendar.month_abbr[month], holi_day))\n",
    "\t"
   ]
  },
  {
   "cell_type": "markdown",
   "metadata": {},
   "source": [
    "Write a Python program to convert a string into datetime."
   ]
  },
  {
   "cell_type": "code",
   "execution_count": 29,
   "metadata": {},
   "outputs": [
    {
     "name": "stdout",
     "output_type": "stream",
     "text": [
      "\n",
      "2016-05-12 02:25:00\n",
      "\n"
     ]
    }
   ],
   "source": [
    "from datetime import datetime\n",
    "\n",
    "date_obj = datetime.strptime('May 12 2016  2:25AM', '%b %d %Y %I:%M%p')\n",
    "print()\n",
    "print(date_obj)\n",
    "print()"
   ]
  },
  {
   "cell_type": "markdown",
   "metadata": {},
   "source": [
    "Write a Python program to get a list of dates between two dates"
   ]
  },
  {
   "cell_type": "code",
   "execution_count": 33,
   "metadata": {},
   "outputs": [
    {
     "name": "stdout",
     "output_type": "stream",
     "text": [
      "2016-12-11\n",
      "2016-12-12\n",
      "2016-12-13\n",
      "2016-12-14\n",
      "2016-12-15\n",
      "2016-12-16\n",
      "2016-12-17\n",
      "2016-12-18\n",
      "2016-12-19\n",
      "2016-12-20\n"
     ]
    }
   ],
   "source": [
    "from datetime import timedelta, date\n",
    "\n",
    "def daterange(date1, date2):\n",
    "    for n in range(int ((date2 - date1).days)+1):\n",
    "        yield date1 + timedelta(n)\n",
    "\n",
    "start_dt = date(2016, 12, 11)\n",
    "end_dt = date(2016, 12, 20)\n",
    "for dt in daterange(start_dt, end_dt):\n",
    "    print(dt.strftime(\"%Y-%m-%d\"))"
   ]
  },
  {
   "cell_type": "markdown",
   "metadata": {},
   "source": [
    "Write a Python program to generate RFC 3339 timestamp"
   ]
  },
  {
   "cell_type": "code",
   "execution_count": 34,
   "metadata": {},
   "outputs": [
    {
     "name": "stdout",
     "output_type": "stream",
     "text": [
      "\n",
      "2019-05-26T04:36:07.547069+05:30\n",
      "\n"
     ]
    }
   ],
   "source": [
    "from datetime import datetime, timezone\n",
    "local_time = datetime.now(timezone.utc).astimezone()\n",
    "print()\n",
    "print(local_time.isoformat())\n",
    "print()"
   ]
  },
  {
   "cell_type": "markdown",
   "metadata": {},
   "source": [
    "Write a Python program to get the first and last second."
   ]
  },
  {
   "cell_type": "code",
   "execution_count": 35,
   "metadata": {},
   "outputs": [
    {
     "name": "stdout",
     "output_type": "stream",
     "text": [
      "First Second:  00:00:00\n",
      "Last Second:  23:59:59.999999\n"
     ]
    }
   ],
   "source": [
    "import datetime\n",
    "print(\"First Second: \", datetime.time.min)\n",
    "print(\"Last Second: \", datetime.time.max)"
   ]
  },
  {
   "cell_type": "markdown",
   "metadata": {},
   "source": [
    "Import the datetime module and display the current date:"
   ]
  },
  {
   "cell_type": "code",
   "execution_count": 38,
   "metadata": {},
   "outputs": [
    {
     "name": "stdout",
     "output_type": "stream",
     "text": [
      "2019-05-26 04:37:31.672023\n"
     ]
    }
   ],
   "source": [
    "import datetime\n",
    "\n",
    "x = datetime.datetime.now()\n",
    "print(x)"
   ]
  },
  {
   "cell_type": "markdown",
   "metadata": {},
   "source": [
    "Return the year and name of weekday:"
   ]
  },
  {
   "cell_type": "code",
   "execution_count": 41,
   "metadata": {},
   "outputs": [
    {
     "name": "stdout",
     "output_type": "stream",
     "text": [
      "2019\n",
      "Sunday\n"
     ]
    }
   ],
   "source": [
    "import datetime\n",
    "\n",
    "x = datetime.datetime.now()\n",
    "\n",
    "print(x.year)\n",
    "print(x.strftime(\"%A\"))"
   ]
  },
  {
   "cell_type": "markdown",
   "metadata": {},
   "source": [
    "Create a date object:"
   ]
  },
  {
   "cell_type": "code",
   "execution_count": 43,
   "metadata": {},
   "outputs": [
    {
     "name": "stdout",
     "output_type": "stream",
     "text": [
      "2020-05-17 00:00:00\n"
     ]
    }
   ],
   "source": [
    "import datetime\n",
    "\n",
    "x = datetime.datetime(2020, 5, 17)\n",
    "\n",
    "print(x)"
   ]
  },
  {
   "cell_type": "markdown",
   "metadata": {},
   "source": [
    "the strftime() Method"
   ]
  },
  {
   "cell_type": "code",
   "execution_count": 44,
   "metadata": {},
   "outputs": [
    {
     "name": "stdout",
     "output_type": "stream",
     "text": [
      "June\n"
     ]
    }
   ],
   "source": [
    "import datetime\n",
    "\n",
    "x = datetime.datetime(2018, 6, 1)\n",
    "\n",
    "print(x.strftime(\"%B\"))"
   ]
  },
  {
   "cell_type": "code",
   "execution_count": null,
   "metadata": {},
   "outputs": [],
   "source": []
  }
 ],
 "metadata": {
  "kernelspec": {
   "display_name": "Python 3",
   "language": "python",
   "name": "python3"
  },
  "language_info": {
   "codemirror_mode": {
    "name": "ipython",
    "version": 3
   },
   "file_extension": ".py",
   "mimetype": "text/x-python",
   "name": "python",
   "nbconvert_exporter": "python",
   "pygments_lexer": "ipython3",
   "version": "3.7.1"
  }
 },
 "nbformat": 4,
 "nbformat_minor": 2
}
