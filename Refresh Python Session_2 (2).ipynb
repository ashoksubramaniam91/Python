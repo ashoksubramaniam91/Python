{
 "cells": [
  {
   "cell_type": "markdown",
   "metadata": {},
   "source": [
    "Conditional Statements,Loops,Combination of loops,Datetime,File operations,Lambda,filter"
   ]
  },
  {
   "cell_type": "code",
   "execution_count": 1,
   "metadata": {},
   "outputs": [],
   "source": [
    "#if - to compare the values based on given condition\n",
    "#if with no else\n",
    "if (3>5):\n",
    "    print(\"3 is greater than 5\")"
   ]
  },
  {
   "cell_type": "code",
   "execution_count": 2,
   "metadata": {},
   "outputs": [
    {
     "name": "stdout",
     "output_type": "stream",
     "text": [
      "3 is not greater than 5\n"
     ]
    }
   ],
   "source": [
    "#if with else\n",
    "if (3>5):\n",
    "    print(\"3 is greater than 5\")\n",
    "else:\n",
    "    print(\"3 is not greater than 5\")"
   ]
  },
  {
   "cell_type": "code",
   "execution_count": 6,
   "metadata": {},
   "outputs": [
    {
     "name": "stdout",
     "output_type": "stream",
     "text": [
      "C is greatest\n"
     ]
    }
   ],
   "source": [
    "#if elif stmts, compare 3 variables find greatest among them\n",
    "a,b,c = 15,21,60\n",
    "if (a>b) & (a>c):\n",
    "    print(\"A is greatest\")\n",
    "elif (b>a) &(b>c):\n",
    "    print(\"B is greatest\")\n",
    "else:\n",
    "    print(\"C is greatest\")"
   ]
  },
  {
   "cell_type": "code",
   "execution_count": 6,
   "metadata": {},
   "outputs": [
    {
     "data": {
      "text/plain": [
       "'USECASE\\ncust_credit = 17k\\ncustomer segmentation: if my cust_credit>=25k then diamond customer\\n    15k to <25k , golden\\n    5k and <15k, silver\\n    else bronze'"
      ]
     },
     "execution_count": 6,
     "metadata": {},
     "output_type": "execute_result"
    }
   ],
   "source": [
    "'''USECASE\n",
    "cust_credit = 17k\n",
    "customer segmentation: if my cust_credit>=25k then diamond customer\n",
    "    15k to <25k , golden\n",
    "    5k and <15k, silver\n",
    "    else bronze'''"
   ]
  },
  {
   "cell_type": "markdown",
   "metadata": {},
   "source": [
    "FOR loop - seq of instructions that are continually repeated until a certain condition is reached"
   ]
  },
  {
   "cell_type": "code",
   "execution_count": 9,
   "metadata": {},
   "outputs": [
    {
     "name": "stdout",
     "output_type": "stream",
     "text": [
      "1\n",
      "2\n",
      "3\n",
      "4\n",
      "5\n"
     ]
    }
   ],
   "source": [
    "#for loop\n",
    "a=[1,2,3,4,5]\n",
    "#print(a)\n",
    "for i in a:\n",
    "    print(i)"
   ]
  },
  {
   "cell_type": "code",
   "execution_count": 11,
   "metadata": {},
   "outputs": [
    {
     "name": "stdout",
     "output_type": "stream",
     "text": [
      "0\n",
      "2\n",
      "4\n",
      "6\n",
      "8\n",
      "10\n"
     ]
    }
   ],
   "source": [
    "#printing even values\n",
    "for i in range(0,11,2):\n",
    "    print(i)"
   ]
  },
  {
   "cell_type": "code",
   "execution_count": 1,
   "metadata": {},
   "outputs": [],
   "source": [
    "#printing odd values"
   ]
  },
  {
   "cell_type": "code",
   "execution_count": 14,
   "metadata": {},
   "outputs": [],
   "source": [
    "#print the nos from 0 to 51 with 5 intervals"
   ]
  },
  {
   "cell_type": "code",
   "execution_count": 15,
   "metadata": {},
   "outputs": [
    {
     "name": "stdout",
     "output_type": "stream",
     "text": [
      "0\n",
      "1\n",
      "2\n",
      "1\n",
      "2\n",
      "3\n",
      "2\n",
      "3\n",
      "4\n"
     ]
    }
   ],
   "source": [
    "#nested for loop\n",
    "for i in range(0,3): #0,1,2\n",
    "    for j in range(0,3): #0,1,2\n",
    "        print(i+j)"
   ]
  },
  {
   "cell_type": "code",
   "execution_count": 18,
   "metadata": {},
   "outputs": [
    {
     "name": "stdout",
     "output_type": "stream",
     "text": [
      "value of i: 0\n",
      "value of i1:1\n",
      "value of i: 1\n",
      "value of i1:2\n",
      "value of i: 2\n",
      "value of i1:3\n",
      "value of i: 3\n",
      "value of i1:4\n",
      "value of i: 4\n",
      "value of i1:5\n"
     ]
    }
   ],
   "source": [
    "#range\n",
    "ran=range(5) #0 to 4\n",
    "for i in ran:\n",
    "    print(\"value of i: {}\".format(i))\n",
    "    print(\"value of i1:{}\". format(i+1))"
   ]
  },
  {
   "cell_type": "code",
   "execution_count": 22,
   "metadata": {},
   "outputs": [
    {
     "name": "stdout",
     "output_type": "stream",
     "text": [
      "Title: PPM, Year: 1963\n",
      "Title: WTB, Year: 1963\n",
      "Title: AHDN, Year: 1964\n",
      "Title: BFS, Year: 1964\n",
      "Title: TAS, Year: 1967\n",
      "Title: RS, Year: 1987\n",
      "Title: FRA, Year: 1765\n"
     ]
    }
   ],
   "source": [
    "#for loop - dictionary\n",
    "bd={\"PPM\":1963,\"WTB\":1963,\"AHDN\":1964,\"BFS\":1964,\"TAS\":1967,\"RS\":1987,\"FRA\":1765}\n",
    "for t in bd:"
   ]
  },
  {
   "cell_type": "markdown",
   "metadata": {},
   "source": [
    "WHILE LOOP- loop gets executed until the condition is satisfied\n"
   ]
  },
  {
   "cell_type": "code",
   "execution_count": 23,
   "metadata": {},
   "outputs": [
    {
     "name": "stdout",
     "output_type": "stream",
     "text": [
      "0\n",
      "1\n",
      "2\n",
      "3\n",
      "4\n"
     ]
    }
   ],
   "source": [
    "k=0\n",
    "while k<5:#0 to 4\n",
    "    print(k)\n",
    "    k=k+1"
   ]
  },
  {
   "cell_type": "markdown",
   "metadata": {},
   "source": [
    "TRY EXCEPT error handling"
   ]
  },
  {
   "cell_type": "code",
   "execution_count": 1,
   "metadata": {},
   "outputs": [
    {
     "name": "stdout",
     "output_type": "stream",
     "text": [
      "Plz check the code\n"
     ]
    }
   ],
   "source": [
    "n=15\n",
    "try:\n",
    "    if n>5:\n",
    "        print(nm)\n",
    "except:\n",
    "    print(\"Plz check the code\")"
   ]
  },
  {
   "cell_type": "code",
   "execution_count": 2,
   "metadata": {},
   "outputs": [
    {
     "name": "stdout",
     "output_type": "stream",
     "text": [
      "something wrong\n"
     ]
    }
   ],
   "source": [
    "#z=2\n",
    "try:\n",
    "    print(z)\n",
    "except:\n",
    "    print(\"something wrong\")\n",
    "else:\n",
    "    print(\"Nothing went wrong\")"
   ]
  },
  {
   "cell_type": "code",
   "execution_count": 35,
   "metadata": {},
   "outputs": [
    {
     "name": "stdout",
     "output_type": "stream",
     "text": [
      "hai\n",
      "try except is finished\n"
     ]
    }
   ],
   "source": [
    "#try, except, finally\n",
    "try:\n",
    "    print(\"hai\")\n",
    "except:\n",
    "    print(\"something wrong\")\n",
    "finally:\n",
    "    print(\"try except is finished\")"
   ]
  },
  {
   "cell_type": "markdown",
   "metadata": {},
   "source": [
    "Inbuilt functions"
   ]
  },
  {
   "cell_type": "code",
   "execution_count": 2,
   "metadata": {},
   "outputs": [
    {
     "data": {
      "text/plain": [
       "11"
      ]
     },
     "execution_count": 2,
     "metadata": {},
     "output_type": "execute_result"
    }
   ],
   "source": [
    "nm=\"hello world\"\n",
    "len(nm)"
   ]
  },
  {
   "cell_type": "code",
   "execution_count": 3,
   "metadata": {},
   "outputs": [
    {
     "name": "stdout",
     "output_type": "stream",
     "text": [
      "True\n",
      "Hello World\n"
     ]
    }
   ],
   "source": [
    "print(nm.islower())\n",
    "print(nm.title())"
   ]
  },
  {
   "cell_type": "code",
   "execution_count": 4,
   "metadata": {},
   "outputs": [
    {
     "name": "stdout",
     "output_type": "stream",
     "text": [
      "hello world\n",
      "HELLO WORLD\n",
      "hello world\n",
      "hello world\n",
      "hello world\n"
     ]
    }
   ],
   "source": [
    "print(str.lower(nm))#lower case\n",
    "print(str.upper(nm))#upper case\n",
    "print(str.lstrip(nm))#remove white space b4 d wrd\n",
    "print(str.rstrip(nm))#remove white space after d wrd\n",
    "print(str.strip(nm))#removes white space on both the sides"
   ]
  },
  {
   "cell_type": "code",
   "execution_count": 41,
   "metadata": {},
   "outputs": [
    {
     "data": {
      "text/plain": [
       "8765"
      ]
     },
     "execution_count": 41,
     "metadata": {},
     "output_type": "execute_result"
    }
   ],
   "source": [
    "abs(-8765)"
   ]
  },
  {
   "cell_type": "code",
   "execution_count": 45,
   "metadata": {},
   "outputs": [
    {
     "name": "stdout",
     "output_type": "stream",
     "text": [
      "False\n",
      "True\n"
     ]
    }
   ],
   "source": [
    "#check for boolean output\n",
    "print(bool(0)) #false\n",
    "print(bool(16)) #other than zero - true"
   ]
  },
  {
   "cell_type": "markdown",
   "metadata": {},
   "source": [
    "Combination of loops"
   ]
  },
  {
   "cell_type": "code",
   "execution_count": 48,
   "metadata": {},
   "outputs": [
    {
     "name": "stdout",
     "output_type": "stream",
     "text": [
      "val of x: 1\n",
      "val of x: 2\n",
      "val of x: 3\n",
      "val of x: 4\n",
      "i have exited the loop\n"
     ]
    }
   ],
   "source": [
    "for x in range(1,10):\n",
    "    print(\"val of x:\",x)\n",
    "    if(x==4):\n",
    "        break #wil exit the loop\n",
    "        #print(\"i have exited the loop\")\n",
    "    #print(\"i have exited the loop\")\n",
    "print(\"i have exited the loop\")"
   ]
  },
  {
   "cell_type": "code",
   "execution_count": 1,
   "metadata": {},
   "outputs": [
    {
     "name": "stdout",
     "output_type": "stream",
     "text": [
      "val of x: 1\n",
      "val of x: 2\n",
      "val of x: 3\n",
      "there is a match\n",
      "val of x: 5\n",
      "val of x: 6\n",
      "val of x: 7\n",
      "val of x: 8\n",
      "val of x: 9\n"
     ]
    }
   ],
   "source": [
    "#if, continue\n",
    "for x in range(1,10):\n",
    "    if(x==4):\n",
    "        print(\"there is a match\")\n",
    "        continue #checks for the condition and continues loop for the entire range\n",
    "    print(\"val of x:\",x)"
   ]
  },
  {
   "cell_type": "code",
   "execution_count": 5,
   "metadata": {},
   "outputs": [],
   "source": [
    "#count the nos bet 555 and 1111 which are divisible by 7"
   ]
  },
  {
   "cell_type": "markdown",
   "metadata": {},
   "source": [
    "Functions\n",
    "used to utilize code in more than one place in a program"
   ]
  },
  {
   "cell_type": "code",
   "execution_count": 3,
   "metadata": {},
   "outputs": [],
   "source": [
    "#create a func\n",
    "def helloworld():\n",
    "    print(\"hello team\")"
   ]
  },
  {
   "cell_type": "code",
   "execution_count": 4,
   "metadata": {},
   "outputs": [
    {
     "name": "stdout",
     "output_type": "stream",
     "text": [
      "hello team\n"
     ]
    }
   ],
   "source": [
    "#call the func\n",
    "helloworld()"
   ]
  },
  {
   "cell_type": "code",
   "execution_count": 13,
   "metadata": {},
   "outputs": [
    {
     "name": "stdout",
     "output_type": "stream",
     "text": [
      "Name :  Alex\n",
      "age :  20\n"
     ]
    }
   ],
   "source": [
    "#more than 1 arg\n",
    "def printinfo(name,age):\n",
    "    print(\"Name : \",name)\n",
    "    print(\"age : \",age)\n",
    "#call the func\n",
    "#printinfo(\"alex\",20)\n",
    "printinfo(age=20,name=\"Alex\")"
   ]
  },
  {
   "cell_type": "code",
   "execution_count": 7,
   "metadata": {},
   "outputs": [
    {
     "name": "stdout",
     "output_type": "stream",
     "text": [
      "12\n"
     ]
    },
    {
     "data": {
      "text/plain": [
       "350"
      ]
     },
     "execution_count": 7,
     "metadata": {},
     "output_type": "execute_result"
    }
   ],
   "source": [
    "#difference bet print and return\n",
    "def info():\n",
    "    print(12)\n",
    "    return 35# holds back the value\n",
    "def mul():\n",
    "    return 10*info()\n",
    "#call the fun\n",
    "mul()"
   ]
  },
  {
   "cell_type": "code",
   "execution_count": 7,
   "metadata": {},
   "outputs": [
    {
     "name": "stdout",
     "output_type": "stream",
     "text": [
      "name :  Jack\n",
      "age :  20\n"
     ]
    }
   ],
   "source": [
    "#passing arg and assign default\n",
    "def printinfo(name,age=20):\n",
    "    print(\"name : \",name)\n",
    "    print(\"age : \",age)\n",
    "#call the fun\n",
    "printinfo(\"Jack\")"
   ]
  },
  {
   "cell_type": "code",
   "execution_count": 14,
   "metadata": {},
   "outputs": [
    {
     "name": "stdout",
     "output_type": "stream",
     "text": [
      "6\n"
     ]
    }
   ],
   "source": [
    "# func\n",
    "def add_fun(x,y):\n",
    "    z=x+y\n",
    "    print(z)\n",
    "#call the fun\n",
    "add_fun(3,3)"
   ]
  },
  {
   "cell_type": "code",
   "execution_count": 15,
   "metadata": {},
   "outputs": [
    {
     "name": "stdout",
     "output_type": "stream",
     "text": [
      "[10, 11, 12, 20, 76]\n"
     ]
    }
   ],
   "source": [
    "#update the list\n",
    "def list_update(x):\n",
    "    x[3]=20#3rd ind to b updated\n",
    "#call the fun\n",
    "lst=[10,11,12,54,76]\n",
    "list_update(lst)\n",
    "print(lst)"
   ]
  },
  {
   "cell_type": "code",
   "execution_count": 9,
   "metadata": {},
   "outputs": [
    {
     "name": "stdout",
     "output_type": "stream",
     "text": [
      "Values inside the function :  [1, 2, 3, 4]\n"
     ]
    }
   ],
   "source": [
    "def changeme(mylist):\n",
    "    mylist=[1,2,3,4]\n",
    "    print(\"Values inside the function : \",mylist)\n",
    "    return\n",
    "#call teh func\n",
    "mylist=[10,20,30,40]\n",
    "changeme(mylist)"
   ]
  },
  {
   "cell_type": "code",
   "execution_count": 10,
   "metadata": {},
   "outputs": [
    {
     "name": "stdout",
     "output_type": "stream",
     "text": [
      "value of mylist outside the func :  [10, 20, 30, 40]\n"
     ]
    }
   ],
   "source": [
    "print(\"value of mylist outside the func : \",mylist)"
   ]
  },
  {
   "cell_type": "code",
   "execution_count": 37,
   "metadata": {},
   "outputs": [
    {
     "name": "stdout",
     "output_type": "stream",
     "text": [
      "Vartuple :  100\n",
      "Vartuple :  200\n",
      "Vartuple :  300\n",
      "Vartuple :  str\n"
     ]
    }
   ],
   "source": [
    "#assigning xple values to single argument using *\n",
    "def fun_arg(*y):\n",
    "    for i in y:\n",
    "        print(\"Vartuple : \",i)\n",
    "    return\n",
    "#call the func\n",
    "fun_arg(100,200,300,\"str\")"
   ]
  },
  {
   "cell_type": "code",
   "execution_count": 38,
   "metadata": {},
   "outputs": [
    {
     "name": "stdout",
     "output_type": "stream",
     "text": [
      "total inside the function :  30\n"
     ]
    },
    {
     "data": {
      "text/plain": [
       "30"
      ]
     },
     "execution_count": 38,
     "metadata": {},
     "output_type": "execute_result"
    }
   ],
   "source": [
    "#scope variables\n",
    "total=0\n",
    "def sum(arg1,arg2):\n",
    "    total=arg1+arg2\n",
    "    print(\"total inside the function : \",total)\n",
    "    return total\n",
    "#call the fun\n",
    "sum(10,20)"
   ]
  },
  {
   "cell_type": "code",
   "execution_count": 39,
   "metadata": {},
   "outputs": [
    {
     "name": "stdout",
     "output_type": "stream",
     "text": [
      "total val outside the func :  0\n"
     ]
    }
   ],
   "source": [
    "print(\"total val outside the func : \",total)"
   ]
  },
  {
   "cell_type": "code",
   "execution_count": 40,
   "metadata": {},
   "outputs": [
    {
     "data": {
      "text/plain": [
       "180"
      ]
     },
     "execution_count": 40,
     "metadata": {},
     "output_type": "execute_result"
    }
   ],
   "source": [
    "#find out sum of middle 3 nos out of 5 given nos\n",
    "def sum_nos(s1,s2,s3,s4,s5):\n",
    "    max_score=max(s1,s2,s3,s4,s5) #max val\n",
    "    min_score=min(s1,s2,s3,s4,s5) #min val\n",
    "    sums=s1+s2+s3+s4+s5-max_score-min_score\n",
    "    return (sums)\n",
    "#call the func\n",
    "sum_nos(40,20,60,80,176)"
   ]
  },
  {
   "cell_type": "code",
   "execution_count": 41,
   "metadata": {},
   "outputs": [
    {
     "data": {
      "text/plain": [
       "'setps to calculate the median\\ninp=[1,2,3,4,6,7]#6\\n#count is odd - sort den middle val gives median\\n#count is even - sort den avg of middle 2 nos gives median\\nright_of_middle = len(inp)//2 #extracting ind \\nleft_of_middle = right_of_middle-1 #extracting ind'"
      ]
     },
     "execution_count": 41,
     "metadata": {},
     "output_type": "execute_result"
    }
   ],
   "source": [
    "'''setps to calculate the median\n",
    "inp=[1,2,3,4,6,7]#6\n",
    "#count is odd - sort den middle val gives median\n",
    "#count is even - sort den avg of middle 2 nos gives median\n",
    "right_of_middle = len(inp)//2 #extracting ind \n",
    "left_of_middle = right_of_middle-1 #extracting ind'''"
   ]
  },
  {
   "cell_type": "code",
   "execution_count": 42,
   "metadata": {},
   "outputs": [],
   "source": [
    "def median(inp):\n",
    "    inp.sort()\n",
    "    if len(inp) %2 !=0: #odd - pick the mid ele to get d median\n",
    "        middle_ind=len(inp)//2\n",
    "        return inp[middle_ind]\n",
    "    else:\n",
    "        right_of_middle=len(inp)//2\n",
    "        left_of_middle = right_of_middle-1\n",
    "        return (inp[right_of_middle]+inp[left_of_middle])/2"
   ]
  },
  {
   "cell_type": "code",
   "execution_count": 43,
   "metadata": {},
   "outputs": [
    {
     "data": {
      "text/plain": [
       "3.5"
      ]
     },
     "execution_count": 43,
     "metadata": {},
     "output_type": "execute_result"
    }
   ],
   "source": [
    "#call the fun\n",
    "inp=[1,2,3,4,6,7]#even count\n",
    "median(inp)"
   ]
  },
  {
   "cell_type": "code",
   "execution_count": 44,
   "metadata": {},
   "outputs": [
    {
     "name": "stdout",
     "output_type": "stream",
     "text": [
      "It is palindrome\n",
      "It is palindrome\n",
      "It is palindrome\n"
     ]
    }
   ],
   "source": [
    "#program to check if a string is palindrome or note ('MOM',\"WOW\",'DAD','MADAM')\n",
    "def pal(my_str):\n",
    "    my_str=my_str.casefold() #converts to lower case and special cases like (ß - german letter n its eqlnt letters r ss)\n",
    "    #reverse the string\n",
    "    rev_str=reversed(my_str)\n",
    "    #check if string = reversed\n",
    "    if list(my_str)==list(rev_str):\n",
    "        print(\"It is palindrome\")\n",
    "    else:\n",
    "        print(\"It is not palindrome\")\n",
    "#call the func\n",
    "pal(\"WOW\")\n",
    "pal(\"MaDAm\")\n",
    "pal(\"ßuss\") "
   ]
  },
  {
   "cell_type": "markdown",
   "metadata": {},
   "source": [
    "LAMBDA"
   ]
  },
  {
   "cell_type": "code",
   "execution_count": 69,
   "metadata": {},
   "outputs": [
    {
     "data": {
      "text/plain": [
       "4"
      ]
     },
     "execution_count": 69,
     "metadata": {},
     "output_type": "execute_result"
    }
   ],
   "source": [
    "#normal fun\n",
    "def add(x,y):\n",
    "    return(x+y)\n",
    "#call the fun\n",
    "add(1,3)"
   ]
  },
  {
   "cell_type": "code",
   "execution_count": 70,
   "metadata": {},
   "outputs": [
    {
     "data": {
      "text/plain": [
       "4"
      ]
     },
     "execution_count": 70,
     "metadata": {},
     "output_type": "execute_result"
    }
   ],
   "source": [
    "#using lambda\n",
    "add=lambda x,y : x+y\n",
    "add(1,3)"
   ]
  },
  {
   "cell_type": "code",
   "execution_count": 71,
   "metadata": {},
   "outputs": [
    {
     "name": "stdout",
     "output_type": "stream",
     "text": [
      "125\n"
     ]
    }
   ],
   "source": [
    "#cube fun \n",
    "def cube(y):\n",
    "    return y*y*y\n",
    "#call the func\n",
    "print(cube(5))"
   ]
  },
  {
   "cell_type": "code",
   "execution_count": 74,
   "metadata": {},
   "outputs": [
    {
     "name": "stdout",
     "output_type": "stream",
     "text": [
      "33\n"
     ]
    }
   ],
   "source": [
    "#lambda within func\n",
    "def myfunc(n):\n",
    "    return lambda a: a*n\n",
    "mytripler = myfunc(3)# n=3\n",
    "print(mytripler(11)) #a=11"
   ]
  },
  {
   "cell_type": "code",
   "execution_count": 75,
   "metadata": {},
   "outputs": [
    {
     "name": "stdout",
     "output_type": "stream",
     "text": [
      "22\n",
      "36\n"
     ]
    }
   ],
   "source": [
    "def myfunc(n):\n",
    "    return lambda a :a*n\n",
    "mydoubler = myfunc(2)#n=2\n",
    "mytripler = myfunc(3)#n=3\n",
    "print(mydoubler(11)) #a=11\n",
    "print(mytripler(12))#a=12"
   ]
  },
  {
   "cell_type": "code",
   "execution_count": 76,
   "metadata": {},
   "outputs": [
    {
     "name": "stdout",
     "output_type": "stream",
     "text": [
      "False\n",
      "True\n"
     ]
    }
   ],
   "source": [
    "#logical operation\n",
    "f=lambda x:x>10\n",
    "print(f(2))\n",
    "print(f(12))"
   ]
  },
  {
   "cell_type": "code",
   "execution_count": 77,
   "metadata": {},
   "outputs": [
    {
     "data": {
      "text/plain": [
       "True"
      ]
     },
     "execution_count": 77,
     "metadata": {},
     "output_type": "execute_result"
    }
   ],
   "source": [
    "a=lambda x:x%2==0\n",
    "a(10)"
   ]
  },
  {
   "cell_type": "markdown",
   "metadata": {},
   "source": [
    "FILTER"
   ]
  },
  {
   "cell_type": "code",
   "execution_count": 78,
   "metadata": {},
   "outputs": [
    {
     "name": "stdout",
     "output_type": "stream",
     "text": [
      "[22, 54, 62, 3248]\n"
     ]
    }
   ],
   "source": [
    "#Filter(function, sequence) - seq(which needs to b filtered)\n",
    "#retrieve even ele in the list\n",
    "li=[5,7,22,97,54,62,61,3248]\n",
    "final_list = list(filter(lambda x : (x%2==0),li))\n",
    "print(final_list)"
   ]
  },
  {
   "cell_type": "code",
   "execution_count": 79,
   "metadata": {},
   "outputs": [
    {
     "name": "stdout",
     "output_type": "stream",
     "text": [
      "<class 'list'>\n",
      "[{'name': 'java', 'points': 8}]\n"
     ]
    }
   ],
   "source": [
    "#filter in list\n",
    "dic=[{'name':'python','points':10},{'name':'java','points':8}]\n",
    "print(type(dic))\n",
    "print(list(filter(lambda x : x['points']==8,dic)))"
   ]
  },
  {
   "cell_type": "code",
   "execution_count": null,
   "metadata": {},
   "outputs": [],
   "source": [
    "#arithmetic opns in filter\n",
    "varlist=[0,10,0,30,1]\n",
    "out=list(filter(lambda x : x*10 , varlist))\n",
    "print(\"values are : \",out)"
   ]
  },
  {
   "cell_type": "code",
   "execution_count": null,
   "metadata": {},
   "outputs": [],
   "source": []
  },
  {
   "cell_type": "code",
   "execution_count": 24,
   "metadata": {},
   "outputs": [
    {
     "data": {
      "text/plain": [
       "14"
      ]
     },
     "execution_count": 24,
     "metadata": {},
     "output_type": "execute_result"
    }
   ],
   "source": [
    "d9=[4,7,9]\n",
    "\n",
    "ab=(lambda x,y:x+y)\n",
    "\n",
    "ab(3,11)"
   ]
  },
  {
   "cell_type": "code",
   "execution_count": 30,
   "metadata": {},
   "outputs": [
    {
     "data": {
      "text/plain": [
       "[5,\n",
       " 10,\n",
       " 15,\n",
       " 20,\n",
       " 25,\n",
       " 30,\n",
       " 35,\n",
       " 40,\n",
       " 45,\n",
       " 50,\n",
       " 55,\n",
       " 60,\n",
       " 65,\n",
       " 70,\n",
       " 75,\n",
       " 80,\n",
       " 85,\n",
       " 90,\n",
       " 95,\n",
       " 100,\n",
       " 105,\n",
       " 110,\n",
       " 115,\n",
       " 120,\n",
       " 125,\n",
       " 130,\n",
       " 135,\n",
       " 140,\n",
       " 145,\n",
       " 150,\n",
       " 155,\n",
       " 160,\n",
       " 165,\n",
       " 170,\n",
       " 175,\n",
       " 180,\n",
       " 185,\n",
       " 190,\n",
       " 195,\n",
       " 200,\n",
       " 205,\n",
       " 210,\n",
       " 215,\n",
       " 220,\n",
       " 225,\n",
       " 230,\n",
       " 235,\n",
       " 240,\n",
       " 245,\n",
       " 250,\n",
       " 255,\n",
       " 260,\n",
       " 265,\n",
       " 270,\n",
       " 275,\n",
       " 280,\n",
       " 285,\n",
       " 290,\n",
       " 295,\n",
       " 300,\n",
       " 305,\n",
       " 310,\n",
       " 315,\n",
       " 320,\n",
       " 325,\n",
       " 330,\n",
       " 335,\n",
       " 340,\n",
       " 345,\n",
       " 350,\n",
       " 355,\n",
       " 360,\n",
       " 365,\n",
       " 370,\n",
       " 375,\n",
       " 380,\n",
       " 385,\n",
       " 390,\n",
       " 395,\n",
       " 400,\n",
       " 405,\n",
       " 410,\n",
       " 415,\n",
       " 420,\n",
       " 425,\n",
       " 430,\n",
       " 435,\n",
       " 440,\n",
       " 445,\n",
       " 450,\n",
       " 455,\n",
       " 460,\n",
       " 465,\n",
       " 470,\n",
       " 475,\n",
       " 480,\n",
       " 485,\n",
       " 490,\n",
       " 495,\n",
       " 500,\n",
       " 505,\n",
       " 510,\n",
       " 515,\n",
       " 520,\n",
       " 525,\n",
       " 530,\n",
       " 535,\n",
       " 540,\n",
       " 545,\n",
       " 550,\n",
       " 555,\n",
       " 560,\n",
       " 565,\n",
       " 570,\n",
       " 575,\n",
       " 580,\n",
       " 585,\n",
       " 590,\n",
       " 595,\n",
       " 600,\n",
       " 605,\n",
       " 610,\n",
       " 615,\n",
       " 620,\n",
       " 625,\n",
       " 630,\n",
       " 635,\n",
       " 640,\n",
       " 645,\n",
       " 650,\n",
       " 655,\n",
       " 660,\n",
       " 665,\n",
       " 670,\n",
       " 675,\n",
       " 680,\n",
       " 685,\n",
       " 690,\n",
       " 695,\n",
       " 700,\n",
       " 705,\n",
       " 710,\n",
       " 715,\n",
       " 720,\n",
       " 725,\n",
       " 730,\n",
       " 735,\n",
       " 740,\n",
       " 745,\n",
       " 750,\n",
       " 755,\n",
       " 760,\n",
       " 765,\n",
       " 770,\n",
       " 775,\n",
       " 780,\n",
       " 785,\n",
       " 790,\n",
       " 795,\n",
       " 800,\n",
       " 805,\n",
       " 810,\n",
       " 815,\n",
       " 820,\n",
       " 825,\n",
       " 830,\n",
       " 835,\n",
       " 840,\n",
       " 845,\n",
       " 850,\n",
       " 855,\n",
       " 860,\n",
       " 865,\n",
       " 870,\n",
       " 875,\n",
       " 880,\n",
       " 885,\n",
       " 890,\n",
       " 895,\n",
       " 900,\n",
       " 905,\n",
       " 910,\n",
       " 915,\n",
       " 920,\n",
       " 925,\n",
       " 930,\n",
       " 935,\n",
       " 940,\n",
       " 945,\n",
       " 950,\n",
       " 955,\n",
       " 960,\n",
       " 965,\n",
       " 970,\n",
       " 975,\n",
       " 980,\n",
       " 985,\n",
       " 990,\n",
       " 995]"
      ]
     },
     "execution_count": 30,
     "metadata": {},
     "output_type": "execute_result"
    }
   ],
   "source": [
    "\n",
    "q=range(1,1000)\n",
    "\n",
    "cd=list(filter(lambda x:x%5==0,q))\n",
    "\n",
    "cd\n",
    "\n"
   ]
  },
  {
   "cell_type": "code",
   "execution_count": 33,
   "metadata": {},
   "outputs": [
    {
     "data": {
      "text/plain": [
       "[<function __main__.<lambda>(y)>, range(1, 50)]"
      ]
     },
     "execution_count": 33,
     "metadata": {},
     "output_type": "execute_result"
    }
   ],
   "source": [
    "z=range(1,50)\n",
    "\n",
    "\n",
    "yq=list((lambda y:y*9,z))\n",
    "\n",
    "yq"
   ]
  }
 ],
 "metadata": {
  "kernelspec": {
   "display_name": "Python 3",
   "language": "python",
   "name": "python3"
  },
  "language_info": {
   "codemirror_mode": {
    "name": "ipython",
    "version": 3
   },
   "file_extension": ".py",
   "mimetype": "text/x-python",
   "name": "python",
   "nbconvert_exporter": "python",
   "pygments_lexer": "ipython3",
   "version": "3.7.1"
  }
 },
 "nbformat": 4,
 "nbformat_minor": 2
}
