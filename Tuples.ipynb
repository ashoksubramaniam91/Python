{
 "cells": [
  {
   "cell_type": "code",
   "execution_count": 1,
   "metadata": {},
   "outputs": [
    {
     "name": "stdout",
     "output_type": "stream",
     "text": [
      "()\n"
     ]
    }
   ],
   "source": [
    "tuple3=()\n",
    "print(tuple3)"
   ]
  },
  {
   "cell_type": "code",
   "execution_count": 2,
   "metadata": {},
   "outputs": [
    {
     "name": "stdout",
     "output_type": "stream",
     "text": [
      "(4,)\n"
     ]
    }
   ],
   "source": [
    "tuple1=4,\n",
    "print(tuple1)"
   ]
  },
  {
   "cell_type": "code",
   "execution_count": 3,
   "metadata": {},
   "outputs": [
    {
     "name": "stdout",
     "output_type": "stream",
     "text": [
      "('ashok', 5, 22.3, False)\n"
     ]
    }
   ],
   "source": [
    "tuple2=('ashok',5,22.3,False)\n",
    "print(tuple2)"
   ]
  },
  {
   "cell_type": "code",
   "execution_count": 4,
   "metadata": {},
   "outputs": [
    {
     "name": "stdout",
     "output_type": "stream",
     "text": [
      "('w', 3, 'r', 'e', 's', 'o', 'u', 'r', 'c', 'e')\n"
     ]
    }
   ],
   "source": [
    "tuplex = (\"w\", 3, \"r\", \"e\", \"s\", \"o\", \"u\", \"r\", \"c\", \"e\")\n",
    "print(tuplex)"
   ]
  },
  {
   "cell_type": "code",
   "execution_count": 5,
   "metadata": {},
   "outputs": [
    {
     "name": "stdout",
     "output_type": "stream",
     "text": [
      "r\n"
     ]
    }
   ],
   "source": [
    "print(tuplex[2])"
   ]
  },
  {
   "cell_type": "code",
   "execution_count": 6,
   "metadata": {},
   "outputs": [
    {
     "name": "stdout",
     "output_type": "stream",
     "text": [
      "(3, 'r', 'e', 's')\n"
     ]
    }
   ],
   "source": [
    "print(tuplex[1:5])"
   ]
  },
  {
   "cell_type": "code",
   "execution_count": 7,
   "metadata": {},
   "outputs": [
    {
     "name": "stdout",
     "output_type": "stream",
     "text": [
      "('e', 'c', 'r', 'u', 'o', 's', 'e', 'r', 3, 'w')\n"
     ]
    }
   ],
   "source": [
    "print(tuplex[::-1])"
   ]
  },
  {
   "cell_type": "code",
   "execution_count": 8,
   "metadata": {},
   "outputs": [
    {
     "data": {
      "text/plain": [
       "True"
      ]
     },
     "execution_count": 8,
     "metadata": {},
     "output_type": "execute_result"
    }
   ],
   "source": [
    "'r' in tuplex"
   ]
  },
  {
   "cell_type": "markdown",
   "metadata": {},
   "source": [
    "# list to tuple"
   ]
  },
  {
   "cell_type": "code",
   "execution_count": 9,
   "metadata": {},
   "outputs": [
    {
     "name": "stdout",
     "output_type": "stream",
     "text": [
      "[2, 5, 6, 79, 5]\n",
      "(2, 5, 6, 79, 5)\n"
     ]
    }
   ],
   "source": [
    "list1=[2,5,6,79,5]\n",
    "print(list1)\n",
    "t1=tuple(list1)\n",
    "print(t1)"
   ]
  },
  {
   "cell_type": "code",
   "execution_count": 14,
   "metadata": {},
   "outputs": [
    {
     "name": "stdout",
     "output_type": "stream",
     "text": [
      "(4, 8, 3)\n",
      "15\n"
     ]
    }
   ],
   "source": [
    "tuplex2=4,8,3\n",
    "print(tuplex2)\n",
    "\n",
    "n1,n2,n3=tuplex2\n",
    "print(n1+n2+n3)"
   ]
  },
  {
   "cell_type": "markdown",
   "metadata": {},
   "source": [
    "# Add item in Python tuple!"
   ]
  },
  {
   "cell_type": "code",
   "execution_count": 17,
   "metadata": {},
   "outputs": [
    {
     "name": "stdout",
     "output_type": "stream",
     "text": [
      "(5, 6, 7, 9, 2)\n",
      "(5, 6, 7, 9, 2, 9)\n"
     ]
    }
   ],
   "source": [
    "tuplex3=(5,6,7,9,2)\n",
    "print(tuplex3) #cannot add item to tuple since it is immutable\n",
    "\n",
    "tuplex3=tuplex3+(9,)\n",
    "print(tuplex3)"
   ]
  },
  {
   "cell_type": "code",
   "execution_count": 18,
   "metadata": {},
   "outputs": [
    {
     "name": "stdout",
     "output_type": "stream",
     "text": [
      "(5, 6, 7, 9, 2, 9, 205, 9, 7, 6)\n"
     ]
    }
   ],
   "source": [
    "tuplex3=tuplex3+(205,9,7,6,)\n",
    "print(tuplex3)"
   ]
  },
  {
   "cell_type": "markdown",
   "metadata": {},
   "source": [
    "adding items in a specific index"
   ]
  },
  {
   "cell_type": "code",
   "execution_count": 20,
   "metadata": {},
   "outputs": [
    {
     "name": "stdout",
     "output_type": "stream",
     "text": [
      "(5, 6, 7, 15, 20, 25, 5, 6, 7)\n"
     ]
    }
   ],
   "source": [
    "tuplex3=tuplex3[:3]+(15,20,25)+tuplex3[:3]\n",
    "print(tuplex3)"
   ]
  },
  {
   "cell_type": "markdown",
   "metadata": {},
   "source": [
    "# clone a tuple"
   ]
  },
  {
   "cell_type": "code",
   "execution_count": 21,
   "metadata": {},
   "outputs": [],
   "source": [
    "from copy import deepcopy"
   ]
  },
  {
   "cell_type": "code",
   "execution_count": 22,
   "metadata": {},
   "outputs": [
    {
     "name": "stdout",
     "output_type": "stream",
     "text": [
      "('hello', 5, [], True)\n"
     ]
    }
   ],
   "source": [
    "tuple5=('hello',5,[],True)\n",
    "print(tuple5)"
   ]
  },
  {
   "cell_type": "code",
   "execution_count": 24,
   "metadata": {},
   "outputs": [
    {
     "name": "stdout",
     "output_type": "stream",
     "text": [
      "('hello', 5, [], True)\n"
     ]
    }
   ],
   "source": [
    "tuple_clone=deepcopy(tuple5)\n",
    "print(tuple_clone)"
   ]
  },
  {
   "cell_type": "code",
   "execution_count": 26,
   "metadata": {},
   "outputs": [
    {
     "data": {
      "text/plain": [
       "('hello', 5, [50, 50], True)"
      ]
     },
     "execution_count": 26,
     "metadata": {},
     "output_type": "execute_result"
    }
   ],
   "source": [
    "tuple_clone[2].append(50)\n",
    "tuple_clone"
   ]
  },
  {
   "cell_type": "markdown",
   "metadata": {},
   "source": [
    "# count"
   ]
  },
  {
   "cell_type": "code",
   "execution_count": 28,
   "metadata": {},
   "outputs": [
    {
     "name": "stdout",
     "output_type": "stream",
     "text": [
      "3\n"
     ]
    }
   ],
   "source": [
    "tuple6=(2,6,5,7,9,5,3,2,14,5,6,1,6,54,7,9)\n",
    "print(tuple6.count(6))"
   ]
  },
  {
   "cell_type": "markdown",
   "metadata": {},
   "source": [
    "# Remove an item from tuple"
   ]
  },
  {
   "cell_type": "markdown",
   "metadata": {},
   "source": [
    "tuples are immutable, so you can not remove elements\n",
    "\n",
    "#using merge of tuples with the + operator you can remove an item and it will create a new tuple"
   ]
  },
  {
   "cell_type": "code",
   "execution_count": 31,
   "metadata": {},
   "outputs": [
    {
     "name": "stdout",
     "output_type": "stream",
     "text": [
      "('w', 3, 'd', 'r', 'e', 's', 'l')\n"
     ]
    }
   ],
   "source": [
    "tuplex = \"w\", 3, \"d\", \"r\", \"e\", \"s\", \"l\" \n",
    "print(tuplex)"
   ]
  },
  {
   "cell_type": "code",
   "execution_count": 33,
   "metadata": {},
   "outputs": [
    {
     "name": "stdout",
     "output_type": "stream",
     "text": [
      "('w', 3, 'r', 'e', 's', 'l')\n"
     ]
    }
   ],
   "source": [
    "tuplex7=tuplex[:2]+tuplex[3:]\n",
    "print(tuplex7)"
   ]
  },
  {
   "cell_type": "markdown",
   "metadata": {},
   "source": [
    "converting the tuple to list and remove item"
   ]
  },
  {
   "cell_type": "code",
   "execution_count": 35,
   "metadata": {},
   "outputs": [
    {
     "name": "stdout",
     "output_type": "stream",
     "text": [
      "['w', 3, 'r', 'e', 's', 'l']\n"
     ]
    }
   ],
   "source": [
    "list3=list(tuplex7)\n",
    "print(list3)"
   ]
  },
  {
   "cell_type": "code",
   "execution_count": 37,
   "metadata": {},
   "outputs": [
    {
     "data": {
      "text/plain": [
       "['w', 3, 's', 'l']"
      ]
     },
     "execution_count": 37,
     "metadata": {},
     "output_type": "execute_result"
    }
   ],
   "source": [
    "list3.pop(2)\n",
    "list3"
   ]
  },
  {
   "cell_type": "code",
   "execution_count": 38,
   "metadata": {},
   "outputs": [
    {
     "name": "stdout",
     "output_type": "stream",
     "text": [
      "('w', 3, 's', 'l')\n"
     ]
    }
   ],
   "source": [
    "tuplex7=tuple(list3)\n",
    "print(tuplex7)"
   ]
  },
  {
   "cell_type": "markdown",
   "metadata": {},
   "source": [
    "# Find the index of an item of the tuple"
   ]
  },
  {
   "cell_type": "code",
   "execution_count": 39,
   "metadata": {},
   "outputs": [
    {
     "name": "stdout",
     "output_type": "stream",
     "text": [
      "('i', 'n', 'd', 'e', 'x', ' ', 't', 'u', 'p', 'l', 'e')\n"
     ]
    }
   ],
   "source": [
    "tuplex = tuple(\"index tuple\")\n",
    "print(tuplex)"
   ]
  },
  {
   "cell_type": "code",
   "execution_count": 42,
   "metadata": {},
   "outputs": [
    {
     "data": {
      "text/plain": [
       "4"
      ]
     },
     "execution_count": 42,
     "metadata": {},
     "output_type": "execute_result"
    }
   ],
   "source": [
    "tuplex.index('x')"
   ]
  },
  {
   "cell_type": "code",
   "execution_count": 44,
   "metadata": {},
   "outputs": [
    {
     "data": {
      "text/plain": [
       "10"
      ]
     },
     "execution_count": 44,
     "metadata": {},
     "output_type": "execute_result"
    }
   ],
   "source": [
    "tuplex.index('e',5)"
   ]
  },
  {
   "cell_type": "code",
   "execution_count": 45,
   "metadata": {},
   "outputs": [
    {
     "data": {
      "text/plain": [
       "3"
      ]
     },
     "execution_count": 45,
     "metadata": {},
     "output_type": "execute_result"
    }
   ],
   "source": [
    "tuplex.index('e',1,9)"
   ]
  },
  {
   "cell_type": "markdown",
   "metadata": {},
   "source": [
    "# length of tuple"
   ]
  },
  {
   "cell_type": "code",
   "execution_count": 46,
   "metadata": {},
   "outputs": [
    {
     "data": {
      "text/plain": [
       "11"
      ]
     },
     "execution_count": 46,
     "metadata": {},
     "output_type": "execute_result"
    }
   ],
   "source": [
    "len(tuplex)"
   ]
  },
  {
   "cell_type": "code",
   "execution_count": 50,
   "metadata": {},
   "outputs": [
    {
     "name": "stdout",
     "output_type": "stream",
     "text": [
      "(5,)\n"
     ]
    }
   ],
   "source": [
    "tuplex8=5,\n",
    "print(tuplex8)"
   ]
  },
  {
   "cell_type": "code",
   "execution_count": 51,
   "metadata": {},
   "outputs": [
    {
     "name": "stdout",
     "output_type": "stream",
     "text": [
      "(5, 5, 5, 5, 5, 5)\n"
     ]
    }
   ],
   "source": [
    "tuplex9=tuplex8*6\n",
    "print(tuplex9)"
   ]
  },
  {
   "cell_type": "code",
   "execution_count": 53,
   "metadata": {},
   "outputs": [
    {
     "data": {
      "text/plain": [
       "(5, 6, 7, 5, 6, 7, 5, 6, 7)"
      ]
     },
     "execution_count": 53,
     "metadata": {},
     "output_type": "execute_result"
    }
   ],
   "source": [
    "tupl=(5,6,7)\n",
    "tup=tupl * 3\n",
    "tup"
   ]
  },
  {
   "cell_type": "code",
   "execution_count": 54,
   "metadata": {},
   "outputs": [
    {
     "name": "stdout",
     "output_type": "stream",
     "text": [
      "(1, 2, 3, 4, 6, 7, 'ashok', 'sgdgd', 'dgjkbg', True, False)\n"
     ]
    }
   ],
   "source": [
    "tup1=(1,2,3,4,6,7)\n",
    "tup2=('ashok','sgdgd','dgjkbg')\n",
    "tup3=(True,False)\n",
    "\n",
    "tupp=tup1+tup2+tup3\n",
    "print(tupp)"
   ]
  },
  {
   "cell_type": "markdown",
   "metadata": {},
   "source": [
    "Write a Python program to create a tuple"
   ]
  },
  {
   "cell_type": "code",
   "execution_count": 57,
   "metadata": {},
   "outputs": [
    {
     "name": "stdout",
     "output_type": "stream",
     "text": [
      "()\n",
      "()\n"
     ]
    }
   ],
   "source": [
    "t1=()\n",
    "print(t1)\n",
    "\n",
    "t2=tuple()\n",
    "print(t2)"
   ]
  },
  {
   "cell_type": "markdown",
   "metadata": {},
   "source": [
    " Write a Python program to create a tuple with different data types"
   ]
  },
  {
   "cell_type": "code",
   "execution_count": 59,
   "metadata": {},
   "outputs": [
    {
     "name": "stdout",
     "output_type": "stream",
     "text": [
      "('ashok0', 2, 50.3, True)\n"
     ]
    }
   ],
   "source": [
    "t3=('ashok0',2,50.3,True)\n",
    "print(t3)"
   ]
  },
  {
   "cell_type": "markdown",
   "metadata": {},
   "source": [
    "Write a Python program to create a tuple with numbers and print one item"
   ]
  },
  {
   "cell_type": "code",
   "execution_count": 60,
   "metadata": {},
   "outputs": [
    {
     "data": {
      "text/plain": [
       "7"
      ]
     },
     "execution_count": 60,
     "metadata": {},
     "output_type": "execute_result"
    }
   ],
   "source": [
    "t4=(2,3,4,5,6,7,8,9)\n",
    "t4[5]"
   ]
  },
  {
   "cell_type": "markdown",
   "metadata": {},
   "source": [
    "Create a tuple of one item"
   ]
  },
  {
   "cell_type": "code",
   "execution_count": 62,
   "metadata": {},
   "outputs": [
    {
     "name": "stdout",
     "output_type": "stream",
     "text": [
      "(5,)\n"
     ]
    }
   ],
   "source": [
    "t5=5,\n",
    "print(t5)"
   ]
  },
  {
   "cell_type": "markdown",
   "metadata": {},
   "source": [
    "Write a Python program to unpack a tuple in several variables."
   ]
  },
  {
   "cell_type": "code",
   "execution_count": 63,
   "metadata": {},
   "outputs": [
    {
     "name": "stdout",
     "output_type": "stream",
     "text": [
      "18\n"
     ]
    }
   ],
   "source": [
    "t6=(5,6,7)\n",
    "n1,n2,n3=t6\n",
    "print(n1+n2+n3)"
   ]
  },
  {
   "cell_type": "markdown",
   "metadata": {},
   "source": [
    "Write a Python program to convert a tuple to a string."
   ]
  },
  {
   "cell_type": "code",
   "execution_count": 68,
   "metadata": {},
   "outputs": [
    {
     "name": "stdout",
     "output_type": "stream",
     "text": [
      "('w', '3', 'r', 'e', 's', 'o', 'u', 'r', 'c', 'e', 's')\n",
      "w3resources\n"
     ]
    }
   ],
   "source": [
    "t7=tuple(\"w3resources\")\n",
    "print(t7)\n",
    "print(''.join(t7))"
   ]
  },
  {
   "cell_type": "markdown",
   "metadata": {},
   "source": [
    "Write a Python program to get the 4th element and 4th element from last of a tuple."
   ]
  },
  {
   "cell_type": "code",
   "execution_count": 71,
   "metadata": {},
   "outputs": [
    {
     "name": "stdout",
     "output_type": "stream",
     "text": [
      "e\n",
      "u\n"
     ]
    }
   ],
   "source": [
    "t8 = (\"w\", 3, \"r\", \"e\", \"s\", \"o\", \"u\", \"r\", \"c\", \"e\")\n",
    "print(t8[3])\n",
    "print(t8[-4])\n"
   ]
  },
  {
   "cell_type": "markdown",
   "metadata": {},
   "source": [
    "# Write a Python program to convert a list of tuples into a dictionary"
   ]
  },
  {
   "cell_type": "code",
   "execution_count": 83,
   "metadata": {},
   "outputs": [
    {
     "name": "stdout",
     "output_type": "stream",
     "text": [
      "{'x': [1, 2, 3], 'y': [1, 2], 'z': [1]}\n"
     ]
    }
   ],
   "source": [
    "l = [(\"x\", 1), (\"x\", 2), (\"x\", 3), (\"y\", 1), (\"y\", 2), (\"z\", 1)]\n",
    "d={}\n",
    "for x,y in l:\n",
    "    d.setdefault(x,[]).append(y)\n",
    "print(d)"
   ]
  },
  {
   "cell_type": "markdown",
   "metadata": {},
   "source": [
    "Write a Python program to convert a tuple to a dictionary."
   ]
  },
  {
   "cell_type": "code",
   "execution_count": 73,
   "metadata": {},
   "outputs": [
    {
     "name": "stdout",
     "output_type": "stream",
     "text": [
      "{2: 'w', 3: 'r'}\n"
     ]
    }
   ],
   "source": [
    "tuplex = ((2, \"w\"),(3, \"r\"))\n",
    "print(dict((x,y) for x,y in tuplex))"
   ]
  },
  {
   "cell_type": "code",
   "execution_count": 74,
   "metadata": {},
   "outputs": [
    {
     "name": "stdout",
     "output_type": "stream",
     "text": [
      "{1: 'ashok', 2: 'arun', 3: 'stan'}\n"
     ]
    }
   ],
   "source": [
    "t9=((1,'ashok'),(2,'arun'),(3,'stan'))\n",
    "print(dict((x,y) for x,y in t9))"
   ]
  },
  {
   "cell_type": "code",
   "execution_count": 84,
   "metadata": {},
   "outputs": [
    {
     "name": "stdout",
     "output_type": "stream",
     "text": [
      "{1: 'ashok', 2: 'arun', 3: 'stan', 5: 'ashok'}\n"
     ]
    }
   ],
   "source": [
    "t9=((1,'ashok'),(2,'arun'),(3,'stan'),(5,'ashok'))\n",
    "print(dict((x,y) for x,y in t9))"
   ]
  },
  {
   "cell_type": "markdown",
   "metadata": {},
   "source": [
    "Write a Python program to unzip a list of tuples into individual lists."
   ]
  },
  {
   "cell_type": "code",
   "execution_count": 77,
   "metadata": {},
   "outputs": [
    {
     "name": "stdout",
     "output_type": "stream",
     "text": [
      "[(1, 3, 8), (2, 4, 9)]\n"
     ]
    }
   ],
   "source": [
    "l = [(1,2), (3,4), (8,9)]\n",
    "print(list((zip(*l))))"
   ]
  },
  {
   "cell_type": "markdown",
   "metadata": {},
   "source": [
    "Write a Python program to reverse a tuple."
   ]
  },
  {
   "cell_type": "code",
   "execution_count": 81,
   "metadata": {},
   "outputs": [
    {
     "name": "stdout",
     "output_type": "stream",
     "text": [
      "(2, 5, 9, 7, 6, 5)\n"
     ]
    }
   ],
   "source": [
    "t10=(5,6,7,9,5,2)\n",
    "t11=reversed(t10)\n",
    "print(tuple(t11))"
   ]
  },
  {
   "cell_type": "code",
   "execution_count": 82,
   "metadata": {},
   "outputs": [
    {
     "data": {
      "text/plain": [
       "(2, 5, 9, 7, 6, 5)"
      ]
     },
     "execution_count": 82,
     "metadata": {},
     "output_type": "execute_result"
    }
   ],
   "source": [
    "t10[::-1]"
   ]
  },
  {
   "cell_type": "markdown",
   "metadata": {},
   "source": [
    "Write a Python program to print a tuple with string formatting"
   ]
  },
  {
   "cell_type": "code",
   "execution_count": 85,
   "metadata": {},
   "outputs": [
    {
     "name": "stdout",
     "output_type": "stream",
     "text": [
      "This is a tuple (100, 200, 300)\n"
     ]
    }
   ],
   "source": [
    "t = (100, 200, 300)\n",
    "print('This is a tuple {0}'.format(t))"
   ]
  },
  {
   "cell_type": "markdown",
   "metadata": {},
   "source": [
    "Write a Python program to replace last value of tuples in a list."
   ]
  },
  {
   "cell_type": "code",
   "execution_count": 86,
   "metadata": {},
   "outputs": [
    {
     "name": "stdout",
     "output_type": "stream",
     "text": [
      "[(10, 20, 100), (40, 50, 100), (70, 80, 100)]\n"
     ]
    }
   ],
   "source": [
    "l = [(10, 20, 40), (40, 50, 60), (70, 80, 90)]\n",
    "print([t[:-1] + (100,) for t in l])"
   ]
  },
  {
   "cell_type": "markdown",
   "metadata": {},
   "source": [
    "Write a Python program to remove an empty tuple(s) from a list of tuples."
   ]
  },
  {
   "cell_type": "code",
   "execution_count": 88,
   "metadata": {},
   "outputs": [
    {
     "name": "stdout",
     "output_type": "stream",
     "text": [
      "[('',), ('a', 'b'), ('a', 'b', 'c'), 'd']\n"
     ]
    }
   ],
   "source": [
    "L = [(), (), ('',), ('a', 'b'), ('a', 'b', 'c'), ('d')]\n",
    "a=[t for t in L if t]\n",
    "print(a)"
   ]
  },
  {
   "cell_type": "markdown",
   "metadata": {},
   "source": [
    "Write a Python program to sort a tuple by its float element."
   ]
  },
  {
   "cell_type": "code",
   "execution_count": 89,
   "metadata": {},
   "outputs": [
    {
     "name": "stdout",
     "output_type": "stream",
     "text": [
      "[('item3', '24.5'), ('item2', '15.10'), ('item1', '12.20')]\n"
     ]
    }
   ],
   "source": [
    "price = [('item1', '12.20'), ('item2', '15.10'), ('item3', '24.5')]\n",
    "print( sorted(price, key=lambda x: float(x[1]), reverse=True))"
   ]
  },
  {
   "cell_type": "markdown",
   "metadata": {},
   "source": [
    "Write a Python program to count the elements in a list until an element is a tuple."
   ]
  },
  {
   "cell_type": "code",
   "execution_count": 91,
   "metadata": {},
   "outputs": [
    {
     "name": "stdout",
     "output_type": "stream",
     "text": [
      "3\n"
     ]
    }
   ],
   "source": [
    "num = [10,20,30,(10,20),40]\n",
    "ctr = 0\n",
    "for n in num:\n",
    "    if isinstance(n, tuple):\n",
    "        break\n",
    "    ctr += 1\n",
    "print(ctr)"
   ]
  },
  {
   "cell_type": "code",
   "execution_count": null,
   "metadata": {},
   "outputs": [],
   "source": []
  }
 ],
 "metadata": {
  "kernelspec": {
   "display_name": "Python 3",
   "language": "python",
   "name": "python3"
  },
  "language_info": {
   "codemirror_mode": {
    "name": "ipython",
    "version": 3
   },
   "file_extension": ".py",
   "mimetype": "text/x-python",
   "name": "python",
   "nbconvert_exporter": "python",
   "pygments_lexer": "ipython3",
   "version": "3.7.1"
  }
 },
 "nbformat": 4,
 "nbformat_minor": 2
}
