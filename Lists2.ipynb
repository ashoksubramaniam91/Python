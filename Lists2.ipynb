{
 "cells": [
  {
   "cell_type": "markdown",
   "metadata": {},
   "source": [
    "Write a Python program to count the number of elements in a list within a specified range."
   ]
  },
  {
   "cell_type": "code",
   "execution_count": 3,
   "metadata": {},
   "outputs": [
    {
     "name": "stdout",
     "output_type": "stream",
     "text": [
      "6\n",
      "5\n"
     ]
    }
   ],
   "source": [
    "def rangecount(l1,min,max):\n",
    "    count=0\n",
    "    for i in l1:\n",
    "        if min<=i<=max:\n",
    "            count+=1\n",
    "    return count\n",
    "\n",
    "l1 = [10,20,30,40,40,40,70,80,99]\n",
    "print(rangecount(l1, 40, 100))\n",
    "\n",
    "list2 = ['a','b','c','d','e','f']\n",
    "print(rangecount(list2, 'a', 'e'))"
   ]
  },
  {
   "cell_type": "markdown",
   "metadata": {},
   "source": [
    "Write a Python program to check whether a list contains a sublist."
   ]
  },
  {
   "cell_type": "code",
   "execution_count": 5,
   "metadata": {},
   "outputs": [
    {
     "name": "stdout",
     "output_type": "stream",
     "text": [
      "True\n",
      "False\n"
     ]
    }
   ],
   "source": [
    "def is_Sublist(l, s):\n",
    "    sub_set = False\n",
    "    if s == []:\n",
    "        sub_set = True\n",
    "    elif s == l:\n",
    "        sub_set = True\n",
    "    elif len(s) > len(l):\n",
    "        sub_set = False\n",
    "\n",
    "    else:\n",
    "        for i in range(len(l)):\n",
    "            if l[i] == s[0]:\n",
    "                n = 1\n",
    "                while (n < len(s)) and (l[i+n] == s[n]):\n",
    "                    n += 1\n",
    "                    if n == len(s):\n",
    "                        sub_set = True\n",
    "\n",
    "    return sub_set\n",
    "\n",
    "a = [2,4,3,5,7]\n",
    "b = [4,3]\n",
    "c = [3,7]\n",
    "print(is_Sublist(a, b))\n",
    "print(is_Sublist(a, c))"
   ]
  },
  {
   "cell_type": "code",
   "execution_count": 20,
   "metadata": {},
   "outputs": [
    {
     "name": "stdout",
     "output_type": "stream",
     "text": [
      "[(1, 'p'), (1, 'q'), (1, 'r'), (2, 'p'), (2, 'q'), (2, 'r'), (3, 'p'), (3, 'q'), (3, 'r'), (4, 'p'), (4, 'q'), (4, 'r')]\n",
      "['1p', '1q', '1r', '2p', '2q', '2r', '3p', '3q', '3r', '4p', '4q', '4r']\n",
      "(1, 'p')(1, 'q')(1, 'r')(2, 'p')(2, 'q')(2, 'r')(3, 'p')(3, 'q')(3, 'r')(4, 'p')(4, 'q')(4, 'r')\n"
     ]
    }
   ],
   "source": [
    "l=['p','q','r']\n",
    "a=[(i,j) for i in range(1,5) for j in l]\n",
    "b=['{}{}'.format(i,j) for i in range(1,5) for j in l]\n",
    "print(a)\n",
    "print(b)\n",
    "c=''.join(map(str,a))\n",
    "print(c)"
   ]
  },
  {
   "cell_type": "markdown",
   "metadata": {},
   "source": [
    "To add an element in front of each element in a list"
   ]
  },
  {
   "cell_type": "code",
   "execution_count": 22,
   "metadata": {},
   "outputs": [
    {
     "name": "stdout",
     "output_type": "stream",
     "text": [
      "['c', 'red', 'c', 'blue', 'c', 'green']\n"
     ]
    }
   ],
   "source": [
    "color=['red','blue','green']\n",
    "a=[j for i in color for j in ('c',i)]\n",
    "print(a)"
   ]
  },
  {
   "cell_type": "code",
   "execution_count": 39,
   "metadata": {},
   "outputs": [
    {
     "data": {
      "text/plain": [
       "{'color_name': ['Black', 'Red', 'Maroon', 'Yellow'],\n",
       " 'color_code': ['#000000', '#FF0000', '#800000', '#FFFF00']}"
      ]
     },
     "execution_count": 39,
     "metadata": {},
     "output_type": "execute_result"
    }
   ],
   "source": [
    "color_name = [\"Black\", \"Red\", \"Maroon\", \"Yellow\"]\n",
    "color_code = [\"#000000\", \"#FF0000\", \"#800000\", \"#FFFF00\"]\n",
    "dict={'color_name':color_name,'color_code':color_code}\n",
    "dict\n"
   ]
  },
  {
   "cell_type": "markdown",
   "metadata": {},
   "source": [
    "Write a Python program to split a list every Nth element."
   ]
  },
  {
   "cell_type": "code",
   "execution_count": 40,
   "metadata": {},
   "outputs": [
    {
     "name": "stdout",
     "output_type": "stream",
     "text": [
      "[['a', 'd', 'g', 'j', 'm'], ['b', 'e', 'h', 'k', 'n'], ['c', 'f', 'i', 'l']]\n"
     ]
    }
   ],
   "source": [
    "C = ['a', 'b', 'c', 'd', 'e', 'f', 'g', 'h', 'i', 'j', 'k', 'l', 'm', 'n']\n",
    "def list_slice(S, step):\n",
    "    return [S[i::step] for i in range(step)]\n",
    "print(list_slice(C,3))"
   ]
  },
  {
   "cell_type": "markdown",
   "metadata": {},
   "source": [
    "to create list of empty dictionary"
   ]
  },
  {
   "cell_type": "code",
   "execution_count": 42,
   "metadata": {},
   "outputs": [
    {
     "name": "stdout",
     "output_type": "stream",
     "text": [
      "[{}, {}, {}, {}, {}]\n"
     ]
    }
   ],
   "source": [
    "a=[{} for i in range(5)]\n",
    "print(a)"
   ]
  },
  {
   "cell_type": "markdown",
   "metadata": {},
   "source": [
    "Write a Python program to insert a given string at the beginning of all items in a list."
   ]
  },
  {
   "cell_type": "code",
   "execution_count": 43,
   "metadata": {},
   "outputs": [
    {
     "name": "stdout",
     "output_type": "stream",
     "text": [
      "['emp1', 'emp2', 'emp3', 'emp4']\n"
     ]
    }
   ],
   "source": [
    "num=[1,2,3,4]\n",
    "a=['emp{0}'.format(i) for i in num]\n",
    "print(a)"
   ]
  },
  {
   "cell_type": "markdown",
   "metadata": {},
   "source": [
    "Write a Python program to iterate over two lists simultaneously."
   ]
  },
  {
   "cell_type": "code",
   "execution_count": 45,
   "metadata": {},
   "outputs": [
    {
     "name": "stdout",
     "output_type": "stream",
     "text": [
      "1 red\n",
      "2 green\n",
      "3 blue\n",
      "4 yellow\n"
     ]
    }
   ],
   "source": [
    "num=[1,2,3,4]\n",
    "color=['red','green','blue','yellow']\n",
    "for (a,b) in zip(num,color):\n",
    "    print(a,b)"
   ]
  },
  {
   "cell_type": "markdown",
   "metadata": {},
   "source": [
    "Write a Python program to access dictionary key’s element by index."
   ]
  },
  {
   "cell_type": "code",
   "execution_count": 46,
   "metadata": {},
   "outputs": [
    {
     "name": "stdout",
     "output_type": "stream",
     "text": [
      "physics\n"
     ]
    }
   ],
   "source": [
    "num = {'physics': 80, 'math': 90, 'chemistry': 86}\n",
    "print(list(num)[0])"
   ]
  },
  {
   "cell_type": "markdown",
   "metadata": {},
   "source": [
    "Write a Python program to find the list in a list of lists whose sum of elements is the highest."
   ]
  },
  {
   "cell_type": "code",
   "execution_count": 47,
   "metadata": {},
   "outputs": [
    {
     "name": "stdout",
     "output_type": "stream",
     "text": [
      "[10, 11, 12]\n"
     ]
    }
   ],
   "source": [
    "num = [[1,2,3], [4,5,6], [10,11,12], [7,8,9]]\n",
    "print(max(num, key=sum))"
   ]
  },
  {
   "cell_type": "code",
   "execution_count": null,
   "metadata": {},
   "outputs": [],
   "source": []
  }
 ],
 "metadata": {
  "kernelspec": {
   "display_name": "Python 3",
   "language": "python",
   "name": "python3"
  },
  "language_info": {
   "codemirror_mode": {
    "name": "ipython",
    "version": 3
   },
   "file_extension": ".py",
   "mimetype": "text/x-python",
   "name": "python",
   "nbconvert_exporter": "python",
   "pygments_lexer": "ipython3",
   "version": "3.7.1"
  }
 },
 "nbformat": 4,
 "nbformat_minor": 2
}
